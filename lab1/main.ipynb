{
 "cells": [
  {
   "cell_type": "markdown",
   "id": "39b1dd43",
   "metadata": {},
   "source": [
    "TODO:\n",
    "1) EDA\n",
    "2) Run some training script (ready opensource solution)\n",
    "3) Analyse results (confusion matrix, some exact cases)"
   ]
  },
  {
   "cell_type": "markdown",
   "id": "00eacbcf",
   "metadata": {},
   "source": [
    "'O': 1146068', geo-nam': 58388, 'org-nam': 48034, 'per-nam': 23790, 'gpe-nam': 20680, 'tim-dat': 12786, 'tim-dow': 11404, 'per-tit': 9800, 'per-fam': 8152, 'tim-yoc': 5290, 'tim-moy': 4262, 'per-giv': 2413, 'tim-clo': 891, 'art-nam': 866, 'eve-nam': 602, 'nat-nam': 300, 'tim-nam': 146, 'eve-ord': 107, 'per-ini': 60, 'org-leg': 60, 'per-ord': 38, 'tim-dom': 10, 'per-mid': 1, 'art-add': 1"
   ]
  },
  {
   "cell_type": "code",
   "execution_count": 6,
   "id": "91544739",
   "metadata": {},
   "outputs": [],
   "source": [
    "from datasets import load_dataset\n",
    "import numpy as np"
   ]
  },
  {
   "cell_type": "code",
   "execution_count": 40,
   "id": "3f8de42c",
   "metadata": {},
   "outputs": [
    {
     "data": {
      "application/vnd.jupyter.widget-view+json": {
       "model_id": "cfc98c2271f540a387e4dfcff82aa32c",
       "version_major": 2,
       "version_minor": 0
      },
      "text/plain": [
       "conll2012.py: 0.00B [00:00, ?B/s]"
      ]
     },
     "metadata": {},
     "output_type": "display_data"
    },
    {
     "name": "stderr",
     "output_type": "stream",
     "text": [
      "Xet Storage is enabled for this repo, but the 'hf_xet' package is not installed. Falling back to regular HTTP download. For better performance, install the package with: `pip install huggingface_hub[hf_xet]` or `pip install hf_xet`\n"
     ]
    },
    {
     "data": {
      "application/vnd.jupyter.widget-view+json": {
       "model_id": "2d98a179265e4b3f98e78982448d8db9",
       "version_major": 2,
       "version_minor": 0
      },
      "text/plain": [
       "0000.parquet:   0%|          | 0.00/9.70M [00:00<?, ?B/s]"
      ]
     },
     "metadata": {},
     "output_type": "display_data"
    },
    {
     "name": "stderr",
     "output_type": "stream",
     "text": [
      "Xet Storage is enabled for this repo, but the 'hf_xet' package is not installed. Falling back to regular HTTP download. For better performance, install the package with: `pip install huggingface_hub[hf_xet]` or `pip install hf_xet`\n"
     ]
    },
    {
     "data": {
      "application/vnd.jupyter.widget-view+json": {
       "model_id": "2291ba5b11194144aa089745e7daaa2f",
       "version_major": 2,
       "version_minor": 0
      },
      "text/plain": [
       "0000.parquet:   0%|          | 0.00/1.40M [00:00<?, ?B/s]"
      ]
     },
     "metadata": {},
     "output_type": "display_data"
    },
    {
     "name": "stderr",
     "output_type": "stream",
     "text": [
      "Xet Storage is enabled for this repo, but the 'hf_xet' package is not installed. Falling back to regular HTTP download. For better performance, install the package with: `pip install huggingface_hub[hf_xet]` or `pip install hf_xet`\n"
     ]
    },
    {
     "data": {
      "application/vnd.jupyter.widget-view+json": {
       "model_id": "d27e9a78276043c595bdf4069653ff3e",
       "version_major": 2,
       "version_minor": 0
      },
      "text/plain": [
       "0000.parquet:   0%|          | 0.00/1.03M [00:00<?, ?B/s]"
      ]
     },
     "metadata": {},
     "output_type": "display_data"
    },
    {
     "data": {
      "application/vnd.jupyter.widget-view+json": {
       "model_id": "9ebb2e0b969f4d80afd44eccd293cd5e",
       "version_major": 2,
       "version_minor": 0
      },
      "text/plain": [
       "Generating train split:   0%|          | 0/115812 [00:00<?, ? examples/s]"
      ]
     },
     "metadata": {},
     "output_type": "display_data"
    },
    {
     "data": {
      "application/vnd.jupyter.widget-view+json": {
       "model_id": "5c187abd4f43492097591d1112ec82ab",
       "version_major": 2,
       "version_minor": 0
      },
      "text/plain": [
       "Generating validation split:   0%|          | 0/15680 [00:00<?, ? examples/s]"
      ]
     },
     "metadata": {},
     "output_type": "display_data"
    },
    {
     "data": {
      "application/vnd.jupyter.widget-view+json": {
       "model_id": "a91510f0c0ea4c149c172c57eaa0289d",
       "version_major": 2,
       "version_minor": 0
      },
      "text/plain": [
       "Generating test split:   0%|          | 0/12217 [00:00<?, ? examples/s]"
      ]
     },
     "metadata": {},
     "output_type": "display_data"
    }
   ],
   "source": [
    "ds = load_dataset(\"ramybaly/conll2012\")"
   ]
  },
  {
   "cell_type": "code",
   "execution_count": 59,
   "id": "7ceccbdb",
   "metadata": {},
   "outputs": [],
   "source": [
    "names=[\n",
    "                                'O',\n",
    "                                'B-CARDINAL',\n",
    "                                'B-DATE',\n",
    "                                'B-EVENT',\n",
    "                                'B-FAC',\n",
    "                                'B-GPE',\n",
    "                                'B-LANGUAGE',\n",
    "                                'B-LAW',\n",
    "                                'B-LOC',\n",
    "                                'B-MONEY',\n",
    "                                'B-NORP',\n",
    "                                'B-ORDINAL',\n",
    "                                'B-ORG',\n",
    "                                'B-PERCENT',\n",
    "                                'B-PERSON',\n",
    "                                'B-PRODUCT',\n",
    "                                'B-QUANTITY',\n",
    "                                'B-TIME',\n",
    "                                'B-WORK_OF_ART',\n",
    "                                'I-CARDINAL',\n",
    "                                'I-DATE',\n",
    "                                'I-EVENT',\n",
    "                                'I-FAC',\n",
    "                                'I-GPE',\n",
    "                                'I-LANGUAGE',\n",
    "                                'I-LAW',\n",
    "                                'I-LOC',\n",
    "                                'I-MONEY',\n",
    "                                'I-NORP',\n",
    "                                'I-ORDINAL',\n",
    "                                'I-ORG',\n",
    "                                'I-PERCENT',\n",
    "                                'I-PERSON',\n",
    "                                'I-PRODUCT',\n",
    "                                'I-QUANTITY',\n",
    "                                'I-TIME',\n",
    "                                'I-WORK_OF_ART'\n",
    "                            ]\n",
    "\n",
    "CLS_MAPPING = {i : ent for i, ent in enumerate(names)}"
   ]
  },
  {
   "cell_type": "code",
   "execution_count": null,
   "id": "1f34bde2",
   "metadata": {},
   "outputs": [],
   "source": [
    "# CLS_MAPPING = {\n",
    "#     0: 'O', #\n",
    "#     1: 'B-ORG', 2: 'I-ORG',\n",
    "#     3: 'B-PER', 4: 'I-PER', #\n",
    "#     5: 'B-GEO', 6: 'I-GEO',\n",
    "#     7: 'B-GPE', 8: 'I-GPE',\n",
    "#     9: 'B-TIM', 10: 'I-TIM', #\n",
    "#     11: 'B-ART', 12: 'I-ART',\n",
    "#     13: 'B-EVE', 14: 'I-EVE',\n",
    "#     15: 'B-NAT', 16: 'I-NAT' #\n",
    "# }"
   ]
  },
  {
   "cell_type": "code",
   "execution_count": 43,
   "id": "9b5fc635",
   "metadata": {},
   "outputs": [],
   "source": [
    "df = ds['train'].to_pandas()"
   ]
  },
  {
   "cell_type": "code",
   "execution_count": 44,
   "id": "f84bcc7c",
   "metadata": {},
   "outputs": [
    {
     "data": {
      "text/html": [
       "<div>\n",
       "<style scoped>\n",
       "    .dataframe tbody tr th:only-of-type {\n",
       "        vertical-align: middle;\n",
       "    }\n",
       "\n",
       "    .dataframe tbody tr th {\n",
       "        vertical-align: top;\n",
       "    }\n",
       "\n",
       "    .dataframe thead th {\n",
       "        text-align: right;\n",
       "    }\n",
       "</style>\n",
       "<table border=\"1\" class=\"dataframe\">\n",
       "  <thead>\n",
       "    <tr style=\"text-align: right;\">\n",
       "      <th></th>\n",
       "      <th>id</th>\n",
       "      <th>tokens</th>\n",
       "      <th>pos_tags</th>\n",
       "      <th>tags</th>\n",
       "    </tr>\n",
       "  </thead>\n",
       "  <tbody>\n",
       "    <tr>\n",
       "      <th>0</th>\n",
       "      <td>0</td>\n",
       "      <td>[Big, Managers, on, Campus]</td>\n",
       "      <td>[17, 26, 16, 23]</td>\n",
       "      <td>[0, 0, 0, 0]</td>\n",
       "    </tr>\n",
       "    <tr>\n",
       "      <th>1</th>\n",
       "      <td>1</td>\n",
       "      <td>[In, recent, years, ,, advanced, education, fo...</td>\n",
       "      <td>[16, 17, 26, 3, 17, 23, 16, 26, 43, 41, 12, 17...</td>\n",
       "      <td>[0, 2, 20, 0, 0, 0, 0, 0, 0, 0, 0, 0, 0, 0, 0,...</td>\n",
       "    </tr>\n",
       "    <tr>\n",
       "      <th>2</th>\n",
       "      <td>2</td>\n",
       "      <td>[With, this, trend, ,, suddenly, the, mature, ...</td>\n",
       "      <td>[16, 12, 23, 3, 31, 12, 17, 26, 16, 26, 40, 12...</td>\n",
       "      <td>[0, 0, 0, 0, 0, 0, 0, 0, 0, 0, 0, 0, 0, 0, 0, ...</td>\n",
       "    </tr>\n",
       "    <tr>\n",
       "      <th>3</th>\n",
       "      <td>3</td>\n",
       "      <td>[In, order, to, attract, this, group, of, seas...</td>\n",
       "      <td>[16, 23, 36, 38, 12, 23, 16, 41, 26, 40, 31, 1...</td>\n",
       "      <td>[0, 0, 0, 0, 0, 0, 0, 0, 0, 0, 0, 0, 9, 27, 27...</td>\n",
       "    </tr>\n",
       "    <tr>\n",
       "      <th>4</th>\n",
       "      <td>4</td>\n",
       "      <td>[In, response, ,, each, year, over, 1000, matu...</td>\n",
       "      <td>[16, 23, 3, 12, 23, 16, 11, 17, 26, 40, 36, 38...</td>\n",
       "      <td>[0, 0, 0, 0, 0, 0, 1, 0, 0, 0, 0, 0, 0, 0, 0, ...</td>\n",
       "    </tr>\n",
       "    <tr>\n",
       "      <th>...</th>\n",
       "      <td>...</td>\n",
       "      <td>...</td>\n",
       "      <td>...</td>\n",
       "      <td>...</td>\n",
       "    </tr>\n",
       "    <tr>\n",
       "      <th>115807</th>\n",
       "      <td>115807</td>\n",
       "      <td>[In, fact, ,, Iraq, has, almost, sunk, into, a...</td>\n",
       "      <td>[16, 23, 3, 24, 43, 31, 41, 16, 12, 23, 16, 17...</td>\n",
       "      <td>[0, 0, 0, 0, 0, 0, 0, 0, 0, 0, 0, 0, 0, 0, 0, ...</td>\n",
       "    </tr>\n",
       "    <tr>\n",
       "      <th>115808</th>\n",
       "      <td>115808</td>\n",
       "      <td>[The, same, day, ,, the, US, National, Broadca...</td>\n",
       "      <td>[12, 17, 23, 3, 12, 24, 24, 24, 24, 4, 24, 5, ...</td>\n",
       "      <td>[0, 0, 0, 0, 0, 0, 0, 0, 0, 0, 0, 0, 0, 0, 0, ...</td>\n",
       "    </tr>\n",
       "    <tr>\n",
       "      <th>115809</th>\n",
       "      <td>115809</td>\n",
       "      <td>[Analysts, here, have, pointed, out, that, Ann...</td>\n",
       "      <td>[26, 31, 42, 41, 34, 16, 24, 28, 23, 10, 12, 2...</td>\n",
       "      <td>[0, 0, 0, 0, 0, 0, 0, 0, 0, 0, 0, 0, 0, 0, 0, ...</td>\n",
       "    </tr>\n",
       "    <tr>\n",
       "      <th>115810</th>\n",
       "      <td>115810</td>\n",
       "      <td>[Calls, from, within, the, US, for, the, withd...</td>\n",
       "      <td>[26, 16, 16, 12, 24, 16, 12, 23, 16, 26, 16, 2...</td>\n",
       "      <td>[0, 0, 0, 0, 0, 0, 0, 0, 0, 0, 0, 0, 0, 0, 0, ...</td>\n",
       "    </tr>\n",
       "    <tr>\n",
       "      <th>115811</th>\n",
       "      <td>115811</td>\n",
       "      <td>[On, the, 29th, and, 30th, of, this, month, ,,...</td>\n",
       "      <td>[16, 12, 23, 10, 23, 16, 12, 23, 3, 24, 24, 24...</td>\n",
       "      <td>[0, 0, 0, 0, 0, 0, 0, 0, 0, 0, 0, 0, 0, 0, 0, ...</td>\n",
       "    </tr>\n",
       "  </tbody>\n",
       "</table>\n",
       "<p>115812 rows × 4 columns</p>\n",
       "</div>"
      ],
      "text/plain": [
       "            id                                             tokens  \\\n",
       "0            0                        [Big, Managers, on, Campus]   \n",
       "1            1  [In, recent, years, ,, advanced, education, fo...   \n",
       "2            2  [With, this, trend, ,, suddenly, the, mature, ...   \n",
       "3            3  [In, order, to, attract, this, group, of, seas...   \n",
       "4            4  [In, response, ,, each, year, over, 1000, matu...   \n",
       "...        ...                                                ...   \n",
       "115807  115807  [In, fact, ,, Iraq, has, almost, sunk, into, a...   \n",
       "115808  115808  [The, same, day, ,, the, US, National, Broadca...   \n",
       "115809  115809  [Analysts, here, have, pointed, out, that, Ann...   \n",
       "115810  115810  [Calls, from, within, the, US, for, the, withd...   \n",
       "115811  115811  [On, the, 29th, and, 30th, of, this, month, ,,...   \n",
       "\n",
       "                                                 pos_tags  \\\n",
       "0                                        [17, 26, 16, 23]   \n",
       "1       [16, 17, 26, 3, 17, 23, 16, 26, 43, 41, 12, 17...   \n",
       "2       [16, 12, 23, 3, 31, 12, 17, 26, 16, 26, 40, 12...   \n",
       "3       [16, 23, 36, 38, 12, 23, 16, 41, 26, 40, 31, 1...   \n",
       "4       [16, 23, 3, 12, 23, 16, 11, 17, 26, 40, 36, 38...   \n",
       "...                                                   ...   \n",
       "115807  [16, 23, 3, 24, 43, 31, 41, 16, 12, 23, 16, 17...   \n",
       "115808  [12, 17, 23, 3, 12, 24, 24, 24, 24, 4, 24, 5, ...   \n",
       "115809  [26, 31, 42, 41, 34, 16, 24, 28, 23, 10, 12, 2...   \n",
       "115810  [26, 16, 16, 12, 24, 16, 12, 23, 16, 26, 16, 2...   \n",
       "115811  [16, 12, 23, 10, 23, 16, 12, 23, 3, 24, 24, 24...   \n",
       "\n",
       "                                                     tags  \n",
       "0                                            [0, 0, 0, 0]  \n",
       "1       [0, 2, 20, 0, 0, 0, 0, 0, 0, 0, 0, 0, 0, 0, 0,...  \n",
       "2       [0, 0, 0, 0, 0, 0, 0, 0, 0, 0, 0, 0, 0, 0, 0, ...  \n",
       "3       [0, 0, 0, 0, 0, 0, 0, 0, 0, 0, 0, 0, 9, 27, 27...  \n",
       "4       [0, 0, 0, 0, 0, 0, 1, 0, 0, 0, 0, 0, 0, 0, 0, ...  \n",
       "...                                                   ...  \n",
       "115807  [0, 0, 0, 0, 0, 0, 0, 0, 0, 0, 0, 0, 0, 0, 0, ...  \n",
       "115808  [0, 0, 0, 0, 0, 0, 0, 0, 0, 0, 0, 0, 0, 0, 0, ...  \n",
       "115809  [0, 0, 0, 0, 0, 0, 0, 0, 0, 0, 0, 0, 0, 0, 0, ...  \n",
       "115810  [0, 0, 0, 0, 0, 0, 0, 0, 0, 0, 0, 0, 0, 0, 0, ...  \n",
       "115811  [0, 0, 0, 0, 0, 0, 0, 0, 0, 0, 0, 0, 0, 0, 0, ...  \n",
       "\n",
       "[115812 rows x 4 columns]"
      ]
     },
     "execution_count": 44,
     "metadata": {},
     "output_type": "execute_result"
    }
   ],
   "source": [
    "df"
   ]
  },
  {
   "cell_type": "code",
   "execution_count": 58,
   "id": "9844572c",
   "metadata": {},
   "outputs": [
    {
     "data": {
      "text/plain": [
       "{'What': 'O',\n",
       " 'knowledge': 'O',\n",
       " 'do': 'O',\n",
       " 'they': 'O',\n",
       " 'seek': 'O',\n",
       " 'that': 'O',\n",
       " 'can': 'O',\n",
       " 'not': 'O',\n",
       " 'be': 'O',\n",
       " 'found': 'O',\n",
       " 'in': 'O',\n",
       " 'society': 'O',\n",
       " 'at': 'O',\n",
       " 'large': 'O',\n",
       " '?': 'O'}"
      ]
     },
     "execution_count": 58,
     "metadata": {},
     "output_type": "execute_result"
    }
   ],
   "source": [
    "idx = 6\n",
    "dict(zip(df.iloc[idx]['tokens'], [CLS_MAPPING[cls_] for cls_ in df.iloc[idx]['tags']]))"
   ]
  }
 ],
 "metadata": {
  "kernelspec": {
   "display_name": "Python 3",
   "language": "python",
   "name": "python3"
  },
  "language_info": {
   "codemirror_mode": {
    "name": "ipython",
    "version": 3
   },
   "file_extension": ".py",
   "mimetype": "text/x-python",
   "name": "python",
   "nbconvert_exporter": "python",
   "pygments_lexer": "ipython3",
   "version": "3.8.10"
  }
 },
 "nbformat": 4,
 "nbformat_minor": 5
}
