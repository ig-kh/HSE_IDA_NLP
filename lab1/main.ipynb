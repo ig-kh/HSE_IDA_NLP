{
 "cells": [
  {
   "cell_type": "markdown",
   "id": "39b1dd43",
   "metadata": {
    "id": "39b1dd43"
   },
   "source": [
    "TODO:\n",
    "1) EDA\n",
    "2) Run some training script (ready opensource solution)\n",
    "3) Analyse results (confusion matrix, some exact cases)"
   ]
  },
  {
   "cell_type": "code",
   "execution_count": 58,
   "id": "vn5mOsMv-tbz",
   "metadata": {
    "colab": {
     "base_uri": "https://localhost:8080/"
    },
    "collapsed": true,
    "execution": {
     "iopub.execute_input": "2025-10-13T23:29:52.580448Z",
     "iopub.status.busy": "2025-10-13T23:29:52.579981Z",
     "iopub.status.idle": "2025-10-13T23:33:51.219118Z",
     "shell.execute_reply": "2025-10-13T23:33:51.218106Z",
     "shell.execute_reply.started": "2025-10-13T23:29:52.580426Z"
    },
    "id": "vn5mOsMv-tbz",
    "jupyter": {
     "outputs_hidden": true
    },
    "outputId": "f0defdde-4444-499e-d3ea-1f75027c6659",
    "trusted": true
   },
   "outputs": [
    {
     "name": "stdout",
     "output_type": "stream",
     "text": [
      "Requirement already satisfied: transformers==4.46.3 in /usr/local/lib/python3.12/dist-packages (4.46.3)\n",
      "Requirement already satisfied: evaluate==0.4.6 in /usr/local/lib/python3.12/dist-packages (0.4.6)\n",
      "Requirement already satisfied: seqeval==1.2.2 in /usr/local/lib/python3.12/dist-packages (1.2.2)\n",
      "Requirement already satisfied: datasets==3.1.0 in /usr/local/lib/python3.12/dist-packages (3.1.0)\n",
      "Requirement already satisfied: torch in /usr/local/lib/python3.12/dist-packages (2.8.0+cu126)\n",
      "Requirement already satisfied: torcheval in /usr/local/lib/python3.12/dist-packages (0.0.7)\n",
      "Requirement already satisfied: torchmetrics in /usr/local/lib/python3.12/dist-packages (1.8.2)\n",
      "Requirement already satisfied: torchvision in /usr/local/lib/python3.12/dist-packages (0.23.0+cu126)\n",
      "Requirement already satisfied: filelock in /usr/local/lib/python3.12/dist-packages (from transformers==4.46.3) (3.20.0)\n",
      "Requirement already satisfied: huggingface-hub<1.0,>=0.23.2 in /usr/local/lib/python3.12/dist-packages (from transformers==4.46.3) (0.35.3)\n",
      "Requirement already satisfied: numpy>=1.17 in /usr/local/lib/python3.12/dist-packages (from transformers==4.46.3) (2.0.2)\n",
      "Requirement already satisfied: packaging>=20.0 in /usr/local/lib/python3.12/dist-packages (from transformers==4.46.3) (25.0)\n",
      "Requirement already satisfied: pyyaml>=5.1 in /usr/local/lib/python3.12/dist-packages (from transformers==4.46.3) (6.0.3)\n",
      "Requirement already satisfied: regex!=2019.12.17 in /usr/local/lib/python3.12/dist-packages (from transformers==4.46.3) (2024.11.6)\n",
      "Requirement already satisfied: requests in /usr/local/lib/python3.12/dist-packages (from transformers==4.46.3) (2.32.4)\n",
      "Requirement already satisfied: tokenizers<0.21,>=0.20 in /usr/local/lib/python3.12/dist-packages (from transformers==4.46.3) (0.20.3)\n",
      "Requirement already satisfied: safetensors>=0.4.1 in /usr/local/lib/python3.12/dist-packages (from transformers==4.46.3) (0.6.2)\n",
      "Requirement already satisfied: tqdm>=4.27 in /usr/local/lib/python3.12/dist-packages (from transformers==4.46.3) (4.67.1)\n",
      "Requirement already satisfied: dill in /usr/local/lib/python3.12/dist-packages (from evaluate==0.4.6) (0.3.8)\n",
      "Requirement already satisfied: pandas in /usr/local/lib/python3.12/dist-packages (from evaluate==0.4.6) (2.2.2)\n",
      "Requirement already satisfied: xxhash in /usr/local/lib/python3.12/dist-packages (from evaluate==0.4.6) (3.6.0)\n",
      "Requirement already satisfied: multiprocess in /usr/local/lib/python3.12/dist-packages (from evaluate==0.4.6) (0.70.16)\n",
      "Requirement already satisfied: fsspec>=2021.05.0 in /usr/local/lib/python3.12/dist-packages (from fsspec[http]>=2021.05.0->evaluate==0.4.6) (2024.9.0)\n",
      "Requirement already satisfied: scikit-learn>=0.21.3 in /usr/local/lib/python3.12/dist-packages (from seqeval==1.2.2) (1.6.1)\n",
      "Requirement already satisfied: pyarrow>=15.0.0 in /usr/local/lib/python3.12/dist-packages (from datasets==3.1.0) (18.1.0)\n",
      "Requirement already satisfied: aiohttp in /usr/local/lib/python3.12/dist-packages (from datasets==3.1.0) (3.13.0)\n",
      "Requirement already satisfied: typing-extensions>=4.10.0 in /usr/local/lib/python3.12/dist-packages (from torch) (4.15.0)\n",
      "Requirement already satisfied: setuptools in /usr/local/lib/python3.12/dist-packages (from torch) (75.2.0)\n",
      "Requirement already satisfied: sympy>=1.13.3 in /usr/local/lib/python3.12/dist-packages (from torch) (1.13.3)\n",
      "Requirement already satisfied: networkx in /usr/local/lib/python3.12/dist-packages (from torch) (3.5)\n",
      "Requirement already satisfied: jinja2 in /usr/local/lib/python3.12/dist-packages (from torch) (3.1.6)\n",
      "Requirement already satisfied: nvidia-cuda-nvrtc-cu12==12.6.77 in /usr/local/lib/python3.12/dist-packages (from torch) (12.6.77)\n",
      "Requirement already satisfied: nvidia-cuda-runtime-cu12==12.6.77 in /usr/local/lib/python3.12/dist-packages (from torch) (12.6.77)\n",
      "Requirement already satisfied: nvidia-cuda-cupti-cu12==12.6.80 in /usr/local/lib/python3.12/dist-packages (from torch) (12.6.80)\n",
      "Requirement already satisfied: nvidia-cudnn-cu12==9.10.2.21 in /usr/local/lib/python3.12/dist-packages (from torch) (9.10.2.21)\n",
      "Requirement already satisfied: nvidia-cublas-cu12==12.6.4.1 in /usr/local/lib/python3.12/dist-packages (from torch) (12.6.4.1)\n",
      "Requirement already satisfied: nvidia-cufft-cu12==11.3.0.4 in /usr/local/lib/python3.12/dist-packages (from torch) (11.3.0.4)\n",
      "Requirement already satisfied: nvidia-curand-cu12==10.3.7.77 in /usr/local/lib/python3.12/dist-packages (from torch) (10.3.7.77)\n",
      "Requirement already satisfied: nvidia-cusolver-cu12==11.7.1.2 in /usr/local/lib/python3.12/dist-packages (from torch) (11.7.1.2)\n",
      "Requirement already satisfied: nvidia-cusparse-cu12==12.5.4.2 in /usr/local/lib/python3.12/dist-packages (from torch) (12.5.4.2)\n",
      "Requirement already satisfied: nvidia-cusparselt-cu12==0.7.1 in /usr/local/lib/python3.12/dist-packages (from torch) (0.7.1)\n",
      "Requirement already satisfied: nvidia-nccl-cu12==2.27.3 in /usr/local/lib/python3.12/dist-packages (from torch) (2.27.3)\n",
      "Requirement already satisfied: nvidia-nvtx-cu12==12.6.77 in /usr/local/lib/python3.12/dist-packages (from torch) (12.6.77)\n",
      "Requirement already satisfied: nvidia-nvjitlink-cu12==12.6.85 in /usr/local/lib/python3.12/dist-packages (from torch) (12.6.85)\n",
      "Requirement already satisfied: nvidia-cufile-cu12==1.11.1.6 in /usr/local/lib/python3.12/dist-packages (from torch) (1.11.1.6)\n",
      "Requirement already satisfied: triton==3.4.0 in /usr/local/lib/python3.12/dist-packages (from torch) (3.4.0)\n",
      "Requirement already satisfied: lightning-utilities>=0.8.0 in /usr/local/lib/python3.12/dist-packages (from torchmetrics) (0.15.2)\n",
      "Requirement already satisfied: pillow!=8.3.*,>=5.3.0 in /usr/local/lib/python3.12/dist-packages (from torchvision) (11.3.0)\n",
      "Requirement already satisfied: aiohappyeyeballs>=2.5.0 in /usr/local/lib/python3.12/dist-packages (from aiohttp->datasets==3.1.0) (2.6.1)\n",
      "Requirement already satisfied: aiosignal>=1.4.0 in /usr/local/lib/python3.12/dist-packages (from aiohttp->datasets==3.1.0) (1.4.0)\n",
      "Requirement already satisfied: attrs>=17.3.0 in /usr/local/lib/python3.12/dist-packages (from aiohttp->datasets==3.1.0) (25.4.0)\n",
      "Requirement already satisfied: frozenlist>=1.1.1 in /usr/local/lib/python3.12/dist-packages (from aiohttp->datasets==3.1.0) (1.8.0)\n",
      "Requirement already satisfied: multidict<7.0,>=4.5 in /usr/local/lib/python3.12/dist-packages (from aiohttp->datasets==3.1.0) (6.7.0)\n",
      "Requirement already satisfied: propcache>=0.2.0 in /usr/local/lib/python3.12/dist-packages (from aiohttp->datasets==3.1.0) (0.3.2)\n",
      "Requirement already satisfied: yarl<2.0,>=1.17.0 in /usr/local/lib/python3.12/dist-packages (from aiohttp->datasets==3.1.0) (1.22.0)\n",
      "Requirement already satisfied: hf-xet<2.0.0,>=1.1.3 in /usr/local/lib/python3.12/dist-packages (from huggingface-hub<1.0,>=0.23.2->transformers==4.46.3) (1.1.10)\n",
      "Requirement already satisfied: charset_normalizer<4,>=2 in /usr/local/lib/python3.12/dist-packages (from requests->transformers==4.46.3) (3.4.3)\n",
      "Requirement already satisfied: idna<4,>=2.5 in /usr/local/lib/python3.12/dist-packages (from requests->transformers==4.46.3) (3.10)\n",
      "Requirement already satisfied: urllib3<3,>=1.21.1 in /usr/local/lib/python3.12/dist-packages (from requests->transformers==4.46.3) (2.5.0)\n",
      "Requirement already satisfied: certifi>=2017.4.17 in /usr/local/lib/python3.12/dist-packages (from requests->transformers==4.46.3) (2025.10.5)\n",
      "Requirement already satisfied: scipy>=1.6.0 in /usr/local/lib/python3.12/dist-packages (from scikit-learn>=0.21.3->seqeval==1.2.2) (1.16.2)\n",
      "Requirement already satisfied: joblib>=1.2.0 in /usr/local/lib/python3.12/dist-packages (from scikit-learn>=0.21.3->seqeval==1.2.2) (1.5.2)\n",
      "Requirement already satisfied: threadpoolctl>=3.1.0 in /usr/local/lib/python3.12/dist-packages (from scikit-learn>=0.21.3->seqeval==1.2.2) (3.6.0)\n",
      "Requirement already satisfied: mpmath<1.4,>=1.1.0 in /usr/local/lib/python3.12/dist-packages (from sympy>=1.13.3->torch) (1.3.0)\n",
      "Requirement already satisfied: MarkupSafe>=2.0 in /usr/local/lib/python3.12/dist-packages (from jinja2->torch) (3.0.3)\n",
      "Requirement already satisfied: python-dateutil>=2.8.2 in /usr/local/lib/python3.12/dist-packages (from pandas->evaluate==0.4.6) (2.9.0.post0)\n",
      "Requirement already satisfied: pytz>=2020.1 in /usr/local/lib/python3.12/dist-packages (from pandas->evaluate==0.4.6) (2025.2)\n",
      "Requirement already satisfied: tzdata>=2022.7 in /usr/local/lib/python3.12/dist-packages (from pandas->evaluate==0.4.6) (2025.2)\n",
      "Requirement already satisfied: six>=1.5 in /usr/local/lib/python3.12/dist-packages (from python-dateutil>=2.8.2->pandas->evaluate==0.4.6) (1.17.0)\n"
     ]
    }
   ],
   "source": [
    "!pip install -U transformers==4.46.3 evaluate==0.4.6 seqeval==1.2.2 datasets==3.1.0 transformers==4.46.3 torch torcheval torchmetrics torchvision"
   ]
  },
  {
   "cell_type": "code",
   "execution_count": 59,
   "id": "-yxQGkbp4HCM",
   "metadata": {
    "colab": {
     "base_uri": "https://localhost:8080/"
    },
    "id": "-yxQGkbp4HCM",
    "outputId": "0e345b08-5cd7-4803-b9f3-de80dc3507a6"
   },
   "outputs": [
    {
     "name": "stdout",
     "output_type": "stream",
     "text": [
      "Drive already mounted at /content/drive; to attempt to forcibly remount, call drive.mount(\"/content/drive\", force_remount=True).\n"
     ]
    }
   ],
   "source": [
    "from google.colab import drive\n",
    "\n",
    "drive.mount(\"/content/drive\")"
   ]
  },
  {
   "cell_type": "code",
   "execution_count": 60,
   "id": "91544739",
   "metadata": {
    "colab": {
     "base_uri": "https://localhost:8080/",
     "height": 40
    },
    "execution": {
     "iopub.execute_input": "2025-10-13T23:33:56.129703Z",
     "iopub.status.busy": "2025-10-13T23:33:56.129443Z",
     "iopub.status.idle": "2025-10-13T23:34:26.842656Z",
     "shell.execute_reply": "2025-10-13T23:34:26.841985Z",
     "shell.execute_reply.started": "2025-10-13T23:33:56.129677Z"
    },
    "id": "91544739",
    "outputId": "6d46ba05-53ae-468c-9652-ba0e294dc7e4",
    "trusted": true
   },
   "outputs": [
    {
     "data": {
      "text/html": [
       "<button onClick=\"this.nextSibling.style.display='block';this.style.display='none';\">Display W&B run</button><iframe src='https://wandb.ai/dummy/dummy/runs/8dupjego?jupyter=true' style='border:none;width:100%;height:420px;display:none;'></iframe>"
      ],
      "text/plain": [
       "<wandb.sdk.wandb_run.Run at 0x7825d81e5d90>"
      ]
     },
     "execution_count": 60,
     "metadata": {},
     "output_type": "execute_result"
    }
   ],
   "source": [
    "import numpy as np\n",
    "from datasets import load_dataset, Dataset, DatasetDict\n",
    "import evaluate\n",
    "from transformers import (\n",
    "    AutoTokenizer,\n",
    "    AutoModelForTokenClassification,\n",
    "    TrainingArguments,\n",
    "    Trainer,\n",
    "    DataCollatorForTokenClassification,\n",
    "    BatchEncoding,\n",
    "    set_seed,\n",
    ")\n",
    "import torch\n",
    "import random\n",
    "from tqdm import tqdm\n",
    "import seaborn as sns\n",
    "import matplotlib.pyplot as plt\n",
    "import pandas as pd\n",
    "import wandb\n",
    "import os\n",
    "\n",
    "os.environ[\"WANDB_DISABLED\"] = \"false\"\n",
    "wandb.init(mode=\"disabled\")"
   ]
  },
  {
   "cell_type": "markdown",
   "id": "e2368463",
   "metadata": {
    "id": "e2368463"
   },
   "source": [
    "Фиксация всех RNG для воспроизводимости:"
   ]
  },
  {
   "cell_type": "code",
   "execution_count": 61,
   "id": "537ee935",
   "metadata": {
    "execution": {
     "iopub.execute_input": "2025-10-13T23:34:38.802448Z",
     "iopub.status.busy": "2025-10-13T23:34:38.801838Z",
     "iopub.status.idle": "2025-10-13T23:34:38.808771Z",
     "shell.execute_reply": "2025-10-13T23:34:38.807897Z",
     "shell.execute_reply.started": "2025-10-13T23:34:38.802422Z"
    },
    "id": "537ee935",
    "trusted": true
   },
   "outputs": [],
   "source": [
    "def set_all_seeds(seed: int):\n",
    "    random.seed(seed)  # Python random seed\n",
    "    np.random.seed(seed)  # NumPy random seed\n",
    "    torch.manual_seed(seed)  # PyTorch CPU seed\n",
    "    torch.cuda.manual_seed(seed)  # PyTorch CUDA seed\n",
    "    torch.cuda.manual_seed_all(seed)  # For multi-GPU setups\n",
    "    torch.backends.cudnn.deterministic = (\n",
    "        True  # Ensure deterministic computation in cuDNN\n",
    "    )\n",
    "    torch.backends.cudnn.benchmark = (\n",
    "        False  # Disable cuDNN auto-tuner for reproducibility\n",
    "    )\n",
    "    set_seed(seed)  # Hugging Face transformers seed setting\n",
    "\n",
    "\n",
    "set_all_seeds(1337)"
   ]
  },
  {
   "cell_type": "markdown",
   "id": "4e5b4eae",
   "metadata": {
    "id": "4e5b4eae"
   },
   "source": [
    "В качестве данных для работы был выбран датасет `Conll2012`"
   ]
  },
  {
   "cell_type": "code",
   "execution_count": 62,
   "id": "3f8de42c",
   "metadata": {
    "execution": {
     "iopub.execute_input": "2025-10-13T23:34:40.883155Z",
     "iopub.status.busy": "2025-10-13T23:34:40.882490Z",
     "iopub.status.idle": "2025-10-13T23:34:46.087238Z",
     "shell.execute_reply": "2025-10-13T23:34:46.086719Z",
     "shell.execute_reply.started": "2025-10-13T23:34:40.883130Z"
    },
    "id": "3f8de42c",
    "trusted": true
   },
   "outputs": [],
   "source": [
    "ds = load_dataset(\"ramybaly/conll2012\")"
   ]
  },
  {
   "cell_type": "markdown",
   "id": "88367c33",
   "metadata": {
    "id": "88367c33"
   },
   "source": [
    "Зарегистрируем дополнительны метаданные о разметке для анализа в будущем (маппинг не поставляется с самим датасето, взят из страницы датасета):"
   ]
  },
  {
   "cell_type": "code",
   "execution_count": 63,
   "id": "7ceccbdb",
   "metadata": {
    "execution": {
     "iopub.execute_input": "2025-10-13T23:34:48.576360Z",
     "iopub.status.busy": "2025-10-13T23:34:48.575622Z",
     "iopub.status.idle": "2025-10-13T23:34:48.581210Z",
     "shell.execute_reply": "2025-10-13T23:34:48.580455Z",
     "shell.execute_reply.started": "2025-10-13T23:34:48.576324Z"
    },
    "id": "7ceccbdb",
    "trusted": true
   },
   "outputs": [],
   "source": [
    "LABEL_NAMES = [\n",
    "    \"O\",\n",
    "    \"B-CARDINAL\",  # количиственные числительные: three, 200, one million, ...\n",
    "    \"B-DATE\",  # даты\n",
    "    \"B-EVENT\",  # события: Olympic games, Easter, ...\n",
    "    \"B-FAC\",  # сооружения (facilities): Eiffel Tower, JFK airport, ...\n",
    "    \"B-GPE\",  # геополитические образования: New York, Texas, ...\n",
    "    \"B-LANGUAGE\",  # языки: English, French, ...\n",
    "    \"B-LAW\",  # законы и нормативные акты: Constitution, Civil Rights Act, ...\n",
    "    \"B-LOC\",  # географические локации: Mount Everest, Nile River, ...\n",
    "    \"B-MONEY\",  # денежные выражения: $5, 10 euros, five million rubles\n",
    "    \"B-NORP\",  # национальности, религии, политические группы: Russians, Buddhists, Republicans, ...\n",
    "    \"B-ORDINAL\",  # порядковые числительные: first, second, third, ...\n",
    "    \"B-ORG\",  # организации: Google, United Nations, ...\n",
    "    \"B-PERCENT\",  # проценты: 50%, twenty percent\n",
    "    \"B-PERSON\",  # имена людей: David Lynch, Maxim Kats, ...\n",
    "    \"B-PRODUCT\",  # продукты и бренды: Coca-Cola, Iphone, ...\n",
    "    \"B-QUANTITY\",  # измеряемые величины с единицами: 5kg, 10 meters, ...\n",
    "    \"B-TIME\",  # время: 2 a.m., morning, ...\n",
    "    \"B-WORK_OF_ART\",  # произведения искусства: Mona Lisa, Воронины, ...\n",
    "    \"I-CARDINAL\",\n",
    "    \"I-DATE\",\n",
    "    \"I-EVENT\",\n",
    "    \"I-FAC\",\n",
    "    \"I-GPE\",\n",
    "    \"I-LANGUAGE\",\n",
    "    \"I-LAW\",\n",
    "    \"I-LOC\",\n",
    "    \"I-MONEY\",\n",
    "    \"I-NORP\",\n",
    "    \"I-ORDINAL\",\n",
    "    \"I-ORG\",\n",
    "    \"I-PERCENT\",\n",
    "    \"I-PERSON\",\n",
    "    \"I-PRODUCT\",\n",
    "    \"I-QUANTITY\",\n",
    "    \"I-TIME\",\n",
    "    \"I-WORK_OF_ART\",\n",
    "]\n",
    "\n",
    "ENTITY_MAPPING = {i: ent for i, ent in enumerate(LABEL_NAMES)}"
   ]
  },
  {
   "cell_type": "code",
   "execution_count": 64,
   "id": "79be6041",
   "metadata": {
    "colab": {
     "base_uri": "https://localhost:8080/"
    },
    "execution": {
     "iopub.execute_input": "2025-10-13T23:34:51.054899Z",
     "iopub.status.busy": "2025-10-13T23:34:51.054191Z",
     "iopub.status.idle": "2025-10-13T23:34:51.059816Z",
     "shell.execute_reply": "2025-10-13T23:34:51.059079Z",
     "shell.execute_reply.started": "2025-10-13T23:34:51.054873Z"
    },
    "id": "79be6041",
    "outputId": "63ac8589-e87f-44be-b961-7f05f0555f15",
    "trusted": true
   },
   "outputs": [
    {
     "data": {
      "text/plain": [
       "DatasetDict({\n",
       "    train: Dataset({\n",
       "        features: ['id', 'tokens', 'pos_tags', 'tags'],\n",
       "        num_rows: 115812\n",
       "    })\n",
       "    validation: Dataset({\n",
       "        features: ['id', 'tokens', 'pos_tags', 'tags'],\n",
       "        num_rows: 15680\n",
       "    })\n",
       "    test: Dataset({\n",
       "        features: ['id', 'tokens', 'pos_tags', 'tags'],\n",
       "        num_rows: 12217\n",
       "    })\n",
       "})"
      ]
     },
     "execution_count": 64,
     "metadata": {},
     "output_type": "execute_result"
    }
   ],
   "source": [
    "ds"
   ]
  },
  {
   "cell_type": "code",
   "execution_count": 65,
   "id": "9b5fc635",
   "metadata": {
    "execution": {
     "iopub.execute_input": "2025-10-13T23:34:53.175187Z",
     "iopub.status.busy": "2025-10-13T23:34:53.174489Z",
     "iopub.status.idle": "2025-10-13T23:34:53.449180Z",
     "shell.execute_reply": "2025-10-13T23:34:53.448447Z",
     "shell.execute_reply.started": "2025-10-13T23:34:53.175154Z"
    },
    "id": "9b5fc635",
    "trusted": true
   },
   "outputs": [],
   "source": [
    "ds_train = ds[\"train\"].remove_columns([\"id\", \"pos_tags\"])\n",
    "ds_val = ds[\"validation\"].remove_columns([\"id\", \"pos_tags\"])\n",
    "ds_test = ds[\"test\"].remove_columns([\"id\", \"pos_tags\"])\n",
    "\n",
    "df_train = ds_train.to_pandas()\n",
    "df_val = ds_val.to_pandas()\n",
    "df_test = ds_test.to_pandas()"
   ]
  },
  {
   "cell_type": "markdown",
   "id": "abcfcd1d",
   "metadata": {
    "id": "abcfcd1d"
   },
   "source": [
    "Датасет"
   ]
  },
  {
   "cell_type": "code",
   "execution_count": 66,
   "id": "f84bcc7c",
   "metadata": {
    "colab": {
     "base_uri": "https://localhost:8080/",
     "height": 424
    },
    "execution": {
     "iopub.execute_input": "2025-10-13T23:34:55.706321Z",
     "iopub.status.busy": "2025-10-13T23:34:55.706051Z",
     "iopub.status.idle": "2025-10-13T23:34:55.743457Z",
     "shell.execute_reply": "2025-10-13T23:34:55.742678Z",
     "shell.execute_reply.started": "2025-10-13T23:34:55.706299Z"
    },
    "id": "f84bcc7c",
    "outputId": "9af07894-2851-43c2-f627-df146c1b68a5",
    "trusted": true
   },
   "outputs": [
    {
     "data": {
      "application/vnd.google.colaboratory.intrinsic+json": {
       "type": "dataframe",
       "variable_name": "df_train"
      },
      "text/html": [
       "\n",
       "  <div id=\"df-c25aabd6-12e3-4b73-9f78-8431f1235f09\" class=\"colab-df-container\">\n",
       "    <div>\n",
       "<style scoped>\n",
       "    .dataframe tbody tr th:only-of-type {\n",
       "        vertical-align: middle;\n",
       "    }\n",
       "\n",
       "    .dataframe tbody tr th {\n",
       "        vertical-align: top;\n",
       "    }\n",
       "\n",
       "    .dataframe thead th {\n",
       "        text-align: right;\n",
       "    }\n",
       "</style>\n",
       "<table border=\"1\" class=\"dataframe\">\n",
       "  <thead>\n",
       "    <tr style=\"text-align: right;\">\n",
       "      <th></th>\n",
       "      <th>tokens</th>\n",
       "      <th>tags</th>\n",
       "    </tr>\n",
       "  </thead>\n",
       "  <tbody>\n",
       "    <tr>\n",
       "      <th>0</th>\n",
       "      <td>[Big, Managers, on, Campus]</td>\n",
       "      <td>[0, 0, 0, 0]</td>\n",
       "    </tr>\n",
       "    <tr>\n",
       "      <th>1</th>\n",
       "      <td>[In, recent, years, ,, advanced, education, fo...</td>\n",
       "      <td>[0, 2, 20, 0, 0, 0, 0, 0, 0, 0, 0, 0, 0, 0, 0,...</td>\n",
       "    </tr>\n",
       "    <tr>\n",
       "      <th>2</th>\n",
       "      <td>[With, this, trend, ,, suddenly, the, mature, ...</td>\n",
       "      <td>[0, 0, 0, 0, 0, 0, 0, 0, 0, 0, 0, 0, 0, 0, 0, ...</td>\n",
       "    </tr>\n",
       "    <tr>\n",
       "      <th>3</th>\n",
       "      <td>[In, order, to, attract, this, group, of, seas...</td>\n",
       "      <td>[0, 0, 0, 0, 0, 0, 0, 0, 0, 0, 0, 0, 9, 27, 27...</td>\n",
       "    </tr>\n",
       "    <tr>\n",
       "      <th>4</th>\n",
       "      <td>[In, response, ,, each, year, over, 1000, matu...</td>\n",
       "      <td>[0, 0, 0, 0, 0, 0, 1, 0, 0, 0, 0, 0, 0, 0, 0, ...</td>\n",
       "    </tr>\n",
       "    <tr>\n",
       "      <th>...</th>\n",
       "      <td>...</td>\n",
       "      <td>...</td>\n",
       "    </tr>\n",
       "    <tr>\n",
       "      <th>115807</th>\n",
       "      <td>[In, fact, ,, Iraq, has, almost, sunk, into, a...</td>\n",
       "      <td>[0, 0, 0, 0, 0, 0, 0, 0, 0, 0, 0, 0, 0, 0, 0, ...</td>\n",
       "    </tr>\n",
       "    <tr>\n",
       "      <th>115808</th>\n",
       "      <td>[The, same, day, ,, the, US, National, Broadca...</td>\n",
       "      <td>[0, 0, 0, 0, 0, 0, 0, 0, 0, 0, 0, 0, 0, 0, 0, ...</td>\n",
       "    </tr>\n",
       "    <tr>\n",
       "      <th>115809</th>\n",
       "      <td>[Analysts, here, have, pointed, out, that, Ann...</td>\n",
       "      <td>[0, 0, 0, 0, 0, 0, 0, 0, 0, 0, 0, 0, 0, 0, 0, ...</td>\n",
       "    </tr>\n",
       "    <tr>\n",
       "      <th>115810</th>\n",
       "      <td>[Calls, from, within, the, US, for, the, withd...</td>\n",
       "      <td>[0, 0, 0, 0, 0, 0, 0, 0, 0, 0, 0, 0, 0, 0, 0, ...</td>\n",
       "    </tr>\n",
       "    <tr>\n",
       "      <th>115811</th>\n",
       "      <td>[On, the, 29th, and, 30th, of, this, month, ,,...</td>\n",
       "      <td>[0, 0, 0, 0, 0, 0, 0, 0, 0, 0, 0, 0, 0, 0, 0, ...</td>\n",
       "    </tr>\n",
       "  </tbody>\n",
       "</table>\n",
       "<p>115812 rows × 2 columns</p>\n",
       "</div>\n",
       "    <div class=\"colab-df-buttons\">\n",
       "\n",
       "  <div class=\"colab-df-container\">\n",
       "    <button class=\"colab-df-convert\" onclick=\"convertToInteractive('df-c25aabd6-12e3-4b73-9f78-8431f1235f09')\"\n",
       "            title=\"Convert this dataframe to an interactive table.\"\n",
       "            style=\"display:none;\">\n",
       "\n",
       "  <svg xmlns=\"http://www.w3.org/2000/svg\" height=\"24px\" viewBox=\"0 -960 960 960\">\n",
       "    <path d=\"M120-120v-720h720v720H120Zm60-500h600v-160H180v160Zm220 220h160v-160H400v160Zm0 220h160v-160H400v160ZM180-400h160v-160H180v160Zm440 0h160v-160H620v160ZM180-180h160v-160H180v160Zm440 0h160v-160H620v160Z\"/>\n",
       "  </svg>\n",
       "    </button>\n",
       "\n",
       "  <style>\n",
       "    .colab-df-container {\n",
       "      display:flex;\n",
       "      gap: 12px;\n",
       "    }\n",
       "\n",
       "    .colab-df-convert {\n",
       "      background-color: #E8F0FE;\n",
       "      border: none;\n",
       "      border-radius: 50%;\n",
       "      cursor: pointer;\n",
       "      display: none;\n",
       "      fill: #1967D2;\n",
       "      height: 32px;\n",
       "      padding: 0 0 0 0;\n",
       "      width: 32px;\n",
       "    }\n",
       "\n",
       "    .colab-df-convert:hover {\n",
       "      background-color: #E2EBFA;\n",
       "      box-shadow: 0px 1px 2px rgba(60, 64, 67, 0.3), 0px 1px 3px 1px rgba(60, 64, 67, 0.15);\n",
       "      fill: #174EA6;\n",
       "    }\n",
       "\n",
       "    .colab-df-buttons div {\n",
       "      margin-bottom: 4px;\n",
       "    }\n",
       "\n",
       "    [theme=dark] .colab-df-convert {\n",
       "      background-color: #3B4455;\n",
       "      fill: #D2E3FC;\n",
       "    }\n",
       "\n",
       "    [theme=dark] .colab-df-convert:hover {\n",
       "      background-color: #434B5C;\n",
       "      box-shadow: 0px 1px 3px 1px rgba(0, 0, 0, 0.15);\n",
       "      filter: drop-shadow(0px 1px 2px rgba(0, 0, 0, 0.3));\n",
       "      fill: #FFFFFF;\n",
       "    }\n",
       "  </style>\n",
       "\n",
       "    <script>\n",
       "      const buttonEl =\n",
       "        document.querySelector('#df-c25aabd6-12e3-4b73-9f78-8431f1235f09 button.colab-df-convert');\n",
       "      buttonEl.style.display =\n",
       "        google.colab.kernel.accessAllowed ? 'block' : 'none';\n",
       "\n",
       "      async function convertToInteractive(key) {\n",
       "        const element = document.querySelector('#df-c25aabd6-12e3-4b73-9f78-8431f1235f09');\n",
       "        const dataTable =\n",
       "          await google.colab.kernel.invokeFunction('convertToInteractive',\n",
       "                                                    [key], {});\n",
       "        if (!dataTable) return;\n",
       "\n",
       "        const docLinkHtml = 'Like what you see? Visit the ' +\n",
       "          '<a target=\"_blank\" href=https://colab.research.google.com/notebooks/data_table.ipynb>data table notebook</a>'\n",
       "          + ' to learn more about interactive tables.';\n",
       "        element.innerHTML = '';\n",
       "        dataTable['output_type'] = 'display_data';\n",
       "        await google.colab.output.renderOutput(dataTable, element);\n",
       "        const docLink = document.createElement('div');\n",
       "        docLink.innerHTML = docLinkHtml;\n",
       "        element.appendChild(docLink);\n",
       "      }\n",
       "    </script>\n",
       "  </div>\n",
       "\n",
       "\n",
       "    <div id=\"df-2d4c586c-46c8-4759-aeae-80ce222d9050\">\n",
       "      <button class=\"colab-df-quickchart\" onclick=\"quickchart('df-2d4c586c-46c8-4759-aeae-80ce222d9050')\"\n",
       "                title=\"Suggest charts\"\n",
       "                style=\"display:none;\">\n",
       "\n",
       "<svg xmlns=\"http://www.w3.org/2000/svg\" height=\"24px\"viewBox=\"0 0 24 24\"\n",
       "     width=\"24px\">\n",
       "    <g>\n",
       "        <path d=\"M19 3H5c-1.1 0-2 .9-2 2v14c0 1.1.9 2 2 2h14c1.1 0 2-.9 2-2V5c0-1.1-.9-2-2-2zM9 17H7v-7h2v7zm4 0h-2V7h2v10zm4 0h-2v-4h2v4z\"/>\n",
       "    </g>\n",
       "</svg>\n",
       "      </button>\n",
       "\n",
       "<style>\n",
       "  .colab-df-quickchart {\n",
       "      --bg-color: #E8F0FE;\n",
       "      --fill-color: #1967D2;\n",
       "      --hover-bg-color: #E2EBFA;\n",
       "      --hover-fill-color: #174EA6;\n",
       "      --disabled-fill-color: #AAA;\n",
       "      --disabled-bg-color: #DDD;\n",
       "  }\n",
       "\n",
       "  [theme=dark] .colab-df-quickchart {\n",
       "      --bg-color: #3B4455;\n",
       "      --fill-color: #D2E3FC;\n",
       "      --hover-bg-color: #434B5C;\n",
       "      --hover-fill-color: #FFFFFF;\n",
       "      --disabled-bg-color: #3B4455;\n",
       "      --disabled-fill-color: #666;\n",
       "  }\n",
       "\n",
       "  .colab-df-quickchart {\n",
       "    background-color: var(--bg-color);\n",
       "    border: none;\n",
       "    border-radius: 50%;\n",
       "    cursor: pointer;\n",
       "    display: none;\n",
       "    fill: var(--fill-color);\n",
       "    height: 32px;\n",
       "    padding: 0;\n",
       "    width: 32px;\n",
       "  }\n",
       "\n",
       "  .colab-df-quickchart:hover {\n",
       "    background-color: var(--hover-bg-color);\n",
       "    box-shadow: 0 1px 2px rgba(60, 64, 67, 0.3), 0 1px 3px 1px rgba(60, 64, 67, 0.15);\n",
       "    fill: var(--button-hover-fill-color);\n",
       "  }\n",
       "\n",
       "  .colab-df-quickchart-complete:disabled,\n",
       "  .colab-df-quickchart-complete:disabled:hover {\n",
       "    background-color: var(--disabled-bg-color);\n",
       "    fill: var(--disabled-fill-color);\n",
       "    box-shadow: none;\n",
       "  }\n",
       "\n",
       "  .colab-df-spinner {\n",
       "    border: 2px solid var(--fill-color);\n",
       "    border-color: transparent;\n",
       "    border-bottom-color: var(--fill-color);\n",
       "    animation:\n",
       "      spin 1s steps(1) infinite;\n",
       "  }\n",
       "\n",
       "  @keyframes spin {\n",
       "    0% {\n",
       "      border-color: transparent;\n",
       "      border-bottom-color: var(--fill-color);\n",
       "      border-left-color: var(--fill-color);\n",
       "    }\n",
       "    20% {\n",
       "      border-color: transparent;\n",
       "      border-left-color: var(--fill-color);\n",
       "      border-top-color: var(--fill-color);\n",
       "    }\n",
       "    30% {\n",
       "      border-color: transparent;\n",
       "      border-left-color: var(--fill-color);\n",
       "      border-top-color: var(--fill-color);\n",
       "      border-right-color: var(--fill-color);\n",
       "    }\n",
       "    40% {\n",
       "      border-color: transparent;\n",
       "      border-right-color: var(--fill-color);\n",
       "      border-top-color: var(--fill-color);\n",
       "    }\n",
       "    60% {\n",
       "      border-color: transparent;\n",
       "      border-right-color: var(--fill-color);\n",
       "    }\n",
       "    80% {\n",
       "      border-color: transparent;\n",
       "      border-right-color: var(--fill-color);\n",
       "      border-bottom-color: var(--fill-color);\n",
       "    }\n",
       "    90% {\n",
       "      border-color: transparent;\n",
       "      border-bottom-color: var(--fill-color);\n",
       "    }\n",
       "  }\n",
       "</style>\n",
       "\n",
       "      <script>\n",
       "        async function quickchart(key) {\n",
       "          const quickchartButtonEl =\n",
       "            document.querySelector('#' + key + ' button');\n",
       "          quickchartButtonEl.disabled = true;  // To prevent multiple clicks.\n",
       "          quickchartButtonEl.classList.add('colab-df-spinner');\n",
       "          try {\n",
       "            const charts = await google.colab.kernel.invokeFunction(\n",
       "                'suggestCharts', [key], {});\n",
       "          } catch (error) {\n",
       "            console.error('Error during call to suggestCharts:', error);\n",
       "          }\n",
       "          quickchartButtonEl.classList.remove('colab-df-spinner');\n",
       "          quickchartButtonEl.classList.add('colab-df-quickchart-complete');\n",
       "        }\n",
       "        (() => {\n",
       "          let quickchartButtonEl =\n",
       "            document.querySelector('#df-2d4c586c-46c8-4759-aeae-80ce222d9050 button');\n",
       "          quickchartButtonEl.style.display =\n",
       "            google.colab.kernel.accessAllowed ? 'block' : 'none';\n",
       "        })();\n",
       "      </script>\n",
       "    </div>\n",
       "    </div>\n",
       "  </div>\n"
      ],
      "text/plain": [
       "                                                   tokens  \\\n",
       "0                             [Big, Managers, on, Campus]   \n",
       "1       [In, recent, years, ,, advanced, education, fo...   \n",
       "2       [With, this, trend, ,, suddenly, the, mature, ...   \n",
       "3       [In, order, to, attract, this, group, of, seas...   \n",
       "4       [In, response, ,, each, year, over, 1000, matu...   \n",
       "...                                                   ...   \n",
       "115807  [In, fact, ,, Iraq, has, almost, sunk, into, a...   \n",
       "115808  [The, same, day, ,, the, US, National, Broadca...   \n",
       "115809  [Analysts, here, have, pointed, out, that, Ann...   \n",
       "115810  [Calls, from, within, the, US, for, the, withd...   \n",
       "115811  [On, the, 29th, and, 30th, of, this, month, ,,...   \n",
       "\n",
       "                                                     tags  \n",
       "0                                            [0, 0, 0, 0]  \n",
       "1       [0, 2, 20, 0, 0, 0, 0, 0, 0, 0, 0, 0, 0, 0, 0,...  \n",
       "2       [0, 0, 0, 0, 0, 0, 0, 0, 0, 0, 0, 0, 0, 0, 0, ...  \n",
       "3       [0, 0, 0, 0, 0, 0, 0, 0, 0, 0, 0, 0, 9, 27, 27...  \n",
       "4       [0, 0, 0, 0, 0, 0, 1, 0, 0, 0, 0, 0, 0, 0, 0, ...  \n",
       "...                                                   ...  \n",
       "115807  [0, 0, 0, 0, 0, 0, 0, 0, 0, 0, 0, 0, 0, 0, 0, ...  \n",
       "115808  [0, 0, 0, 0, 0, 0, 0, 0, 0, 0, 0, 0, 0, 0, 0, ...  \n",
       "115809  [0, 0, 0, 0, 0, 0, 0, 0, 0, 0, 0, 0, 0, 0, 0, ...  \n",
       "115810  [0, 0, 0, 0, 0, 0, 0, 0, 0, 0, 0, 0, 0, 0, 0, ...  \n",
       "115811  [0, 0, 0, 0, 0, 0, 0, 0, 0, 0, 0, 0, 0, 0, 0, ...  \n",
       "\n",
       "[115812 rows x 2 columns]"
      ]
     },
     "execution_count": 66,
     "metadata": {},
     "output_type": "execute_result"
    }
   ],
   "source": [
    "df_train"
   ]
  },
  {
   "cell_type": "code",
   "execution_count": 67,
   "id": "acbda063",
   "metadata": {
    "colab": {
     "base_uri": "https://localhost:8080/"
    },
    "execution": {
     "iopub.execute_input": "2025-10-13T23:35:08.859755Z",
     "iopub.status.busy": "2025-10-13T23:35:08.859445Z",
     "iopub.status.idle": "2025-10-13T23:35:09.814680Z",
     "shell.execute_reply": "2025-10-13T23:35:09.813917Z",
     "shell.execute_reply.started": "2025-10-13T23:35:08.859731Z"
    },
    "id": "acbda063",
    "outputId": "293b68a6-b899-42ea-d090-b94b08e0fc24",
    "trusted": true
   },
   "outputs": [
    {
     "name": "stderr",
     "output_type": "stream",
     "text": [
      "100%|██████████| 115812/115812 [00:00<00:00, 133880.39it/s]\n"
     ]
    }
   ],
   "source": [
    "classes_cnt = {}\n",
    "for tag_arr in tqdm(df_train[\"tags\"]):\n",
    "    for cls_num in tag_arr:\n",
    "        cls_name = ENTITY_MAPPING[cls_num]\n",
    "        if cls_name != \"O\":\n",
    "            cls_name = cls_name[2:]\n",
    "        if cls_name not in classes_cnt:\n",
    "            classes_cnt[cls_name] = 1\n",
    "        else:\n",
    "            classes_cnt[cls_name] += 1"
   ]
  },
  {
   "cell_type": "code",
   "execution_count": 68,
   "id": "88767ab4",
   "metadata": {
    "colab": {
     "base_uri": "https://localhost:8080/",
     "height": 472
    },
    "execution": {
     "iopub.execute_input": "2025-10-13T23:35:12.620450Z",
     "iopub.status.busy": "2025-10-13T23:35:12.619893Z",
     "iopub.status.idle": "2025-10-13T23:35:13.578356Z",
     "shell.execute_reply": "2025-10-13T23:35:13.577673Z",
     "shell.execute_reply.started": "2025-10-13T23:35:12.620428Z"
    },
    "id": "88767ab4",
    "outputId": "8c3a234e-686d-4f6e-a206-d9398a82e592",
    "trusted": true
   },
   "outputs": [
    {
     "data": {
      "text/plain": [
       "Text(0.5, 1.0, 'Token classes distribution in train dataset')"
      ]
     },
     "execution_count": 68,
     "metadata": {},
     "output_type": "execute_result"
    },
    {
     "data": {
      "image/png": "[encoded data removed]",
      "text/plain": [
       "<Figure size 1600x800 with 1 Axes>"
      ]
     },
     "metadata": {},
     "output_type": "display_data"
    }
   ],
   "source": [
    "df = pd.DataFrame(list(classes_cnt.items()), columns=[\"Class\", \"Count\"])\n",
    "\n",
    "# Create the bar plot using Seaborn\n",
    "plt.figure(figsize=(16, 8))  # Optional: Adjust figure size\n",
    "sns.barplot(x=\"Class\", y=\"Count\", data=df)\n",
    "plt.yticks(np.arange(0, max(df[\"Count\"]) + 1, 5000))\n",
    "plt.ylim((0, 0.065 * 1e6))\n",
    "plt.xticks(rotation=45)\n",
    "plt.text(\n",
    "    0.80,\n",
    "    0.90,\n",
    "    f'\"O\" class count is {classes_cnt[\"O\"]},\\n the plot was truncated in order\\n to see other classes distribution',\n",
    "    horizontalalignment=\"left\",\n",
    "    verticalalignment=\"bottom\",\n",
    "    transform=plt.gca().transAxes,\n",
    "    fontsize=10,\n",
    "    color=\"black\",\n",
    ")\n",
    "plt.grid(True)\n",
    "\n",
    "# Add a title to the plot\n",
    "plt.title(\"Token classes distribution in train dataset\")"
   ]
  },
  {
   "cell_type": "code",
   "execution_count": 69,
   "id": "9844572c",
   "metadata": {
    "colab": {
     "base_uri": "https://localhost:8080/"
    },
    "execution": {
     "iopub.execute_input": "2025-10-13T23:35:20.518682Z",
     "iopub.status.busy": "2025-10-13T23:35:20.518214Z",
     "iopub.status.idle": "2025-10-13T23:35:20.524431Z",
     "shell.execute_reply": "2025-10-13T23:35:20.523701Z",
     "shell.execute_reply.started": "2025-10-13T23:35:20.518657Z"
    },
    "id": "9844572c",
    "outputId": "1c29168e-516d-4d9d-d439-afcecbe5273d",
    "trusted": true
   },
   "outputs": [
    {
     "data": {
      "text/plain": [
       "{'Last': 'B-DATE',\n",
       " 'year': 'I-DATE',\n",
       " ',': 'O',\n",
       " 'one': 'B-CARDINAL',\n",
       " 'professor': 'O',\n",
       " 'made': 'O',\n",
       " 'a': 'O',\n",
       " 'big': 'O',\n",
       " 'hit': 'O',\n",
       " 'with': 'O',\n",
       " 'over': 'O',\n",
       " '30': 'B-CARDINAL',\n",
       " 'students': 'O',\n",
       " 'taking': 'O',\n",
       " 'them': 'O',\n",
       " 'to': 'O',\n",
       " 'mainland': 'O',\n",
       " 'China': 'B-GPE',\n",
       " 'for': 'O',\n",
       " 'ten': 'B-DATE',\n",
       " 'days': 'I-DATE',\n",
       " 'familiarize': 'O',\n",
       " 'the': 'O',\n",
       " 'investment': 'O',\n",
       " 'environment': 'O',\n",
       " 'there': 'O',\n",
       " '.': 'O'}"
      ]
     },
     "execution_count": 69,
     "metadata": {},
     "output_type": "execute_result"
    }
   ],
   "source": [
    "idx = 116\n",
    "dict(\n",
    "    zip(\n",
    "        df_train.iloc[idx][\"tokens\"],\n",
    "        [ENTITY_MAPPING[klass] for klass in df_train.iloc[idx][\"tags\"]],\n",
    "    )\n",
    ")"
   ]
  },
  {
   "cell_type": "code",
   "execution_count": 70,
   "id": "4cb9eafc",
   "metadata": {
    "colab": {
     "base_uri": "https://localhost:8080/"
    },
    "execution": {
     "iopub.execute_input": "2025-10-13T23:35:27.416151Z",
     "iopub.status.busy": "2025-10-13T23:35:27.415884Z",
     "iopub.status.idle": "2025-10-13T23:35:27.488156Z",
     "shell.execute_reply": "2025-10-13T23:35:27.487590Z",
     "shell.execute_reply.started": "2025-10-13T23:35:27.416131Z"
    },
    "id": "4cb9eafc",
    "outputId": "82113b1e-5019-4e82-c13e-6914af782b3d",
    "trusted": true
   },
   "outputs": [
    {
     "name": "stderr",
     "output_type": "stream",
     "text": [
      "100%|██████████| 115812/115812 [00:00<00:00, 2600684.96it/s]\n"
     ]
    },
    {
     "name": "stdout",
     "output_type": "stream",
     "text": [
      "Train set:\n",
      "Min sentance length: 1.00\n",
      "Avg sentance length: 19.00\n",
      "Max sentance length: 228.00\n",
      "\n"
     ]
    },
    {
     "name": "stderr",
     "output_type": "stream",
     "text": [
      "100%|██████████| 15680/15680 [00:00<00:00, 2768890.48it/s]\n"
     ]
    },
    {
     "name": "stdout",
     "output_type": "stream",
     "text": [
      "Validation set:\n",
      "Min sentance length: 1.00\n",
      "Avg sentance length: 19.43\n",
      "Max sentance length: 275.00\n",
      "\n"
     ]
    },
    {
     "name": "stderr",
     "output_type": "stream",
     "text": [
      "100%|██████████| 12217/12217 [00:00<00:00, 2351404.73it/s]"
     ]
    },
    {
     "name": "stdout",
     "output_type": "stream",
     "text": [
      "Test set:\n",
      "Min sentance length: 1.00\n",
      "Avg sentance length: 18.84\n",
      "Max sentance length: 151.00\n"
     ]
    },
    {
     "name": "stderr",
     "output_type": "stream",
     "text": [
      "\n"
     ]
    }
   ],
   "source": [
    "seq_lens = []\n",
    "for tok_arr in tqdm(df_train[\"tokens\"]):\n",
    "    seq_lens.append(len(tok_arr))\n",
    "avg_train_seqlen = sum(seq_lens) / len(seq_lens)\n",
    "print(\"Train set:\")\n",
    "print(\n",
    "    f\"Min sentance length: {min(seq_lens):.2f}\\nAvg sentance length: {avg_train_seqlen:.2f}\\nMax sentance length: {max(seq_lens):.2f}\\n\"\n",
    ")\n",
    "\n",
    "seq_lens = []\n",
    "for tok_arr in tqdm(df_val[\"tokens\"]):\n",
    "    seq_lens.append(len(tok_arr))\n",
    "avg_train_seqlen = sum(seq_lens) / len(seq_lens)\n",
    "print(\"Validation set:\")\n",
    "print(\n",
    "    f\"Min sentance length: {min(seq_lens):.2f}\\nAvg sentance length: {avg_train_seqlen:.2f}\\nMax sentance length: {max(seq_lens):.2f}\\n\"\n",
    ")\n",
    "\n",
    "seq_lens = []\n",
    "for tok_arr in tqdm(df_test[\"tokens\"]):\n",
    "    seq_lens.append(len(tok_arr))\n",
    "avg_train_seqlen = sum(seq_lens) / len(seq_lens)\n",
    "print(\"Test set:\")\n",
    "print(\n",
    "    f\"Min sentance length: {min(seq_lens):.2f}\\nAvg sentance length: {avg_train_seqlen:.2f}\\nMax sentance length: {max(seq_lens):.2f}\"\n",
    ")"
   ]
  },
  {
   "cell_type": "code",
   "execution_count": 70,
   "id": "433d1034",
   "metadata": {
    "id": "433d1034"
   },
   "outputs": [],
   "source": []
  },
  {
   "cell_type": "code",
   "execution_count": 71,
   "id": "707c1285",
   "metadata": {
    "id": "707c1285"
   },
   "outputs": [],
   "source": [
    "# TODO distro plot for lengths"
   ]
  },
  {
   "cell_type": "markdown",
   "id": "edf82e20",
   "metadata": {
    "id": "edf82e20"
   },
   "source": [
    "### Модель\n"
   ]
  },
  {
   "cell_type": "markdown",
   "id": "9d13a444",
   "metadata": {
    "id": "9d13a444"
   },
   "source": [
    "Для задачи подходит декодерная модель BERT с двунаправленным attention-механизмом.\n",
    "![image.png](./_img/BERT.png)\n",
    "В пайплайне применяется предобученная модель BERT, self-supervised задача на претренировке состоит из 2 частей - $MLM^1$ и $NSP^2$:\n"
   ]
  },
  {
   "cell_type": "markdown",
   "id": "56ff7241",
   "metadata": {
    "id": "56ff7241"
   },
   "source": [
    "1. 15% процентов токенов маскируются, то есть заменяются на [MASK]\n",
    "2. Бинарный обджектив-индиктор, являются для заколлейченых в 1 сэмпл преложения реально последовательно встречающимися в тексте."
   ]
  },
  {
   "cell_type": "markdown",
   "id": "821a8922",
   "metadata": {
    "id": "821a8922"
   },
   "source": [
    "NER-задача сводится к классификации каждого токена, что означает, что больше подходит дискриминативная модель, ей и является BERT; специфика NER задачи также требует cased-токенизации, так как потенциально поможет в некоторых случаях определить собственные имена."
   ]
  },
  {
   "cell_type": "markdown",
   "id": "66ba1a42",
   "metadata": {
    "id": "66ba1a42"
   },
   "source": [
    "EDA датасета показывает оценку длины в словах, BPE, как subword метод, увеличивает длину после токенизации; распространенной оценкой является $|text|_{words}\\approx 0.75 \\times |text|_{BPE-tokens}$"
   ]
  },
  {
   "cell_type": "markdown",
   "id": "408b1f1a",
   "metadata": {
    "id": "408b1f1a"
   },
   "source": [
    "Так как максимальное количество слов в датасете 228, для того, чтобы все токены точно были обработаны требуется $\\lceil228/0.75\\rceil = 304$, длины принято брать степенями двойки, соответственно нужна модель с $2^{\\lceil\\log_2 304\\rceil} = 2^9 = 512$ токенов."
   ]
  },
  {
   "cell_type": "code",
   "execution_count": 72,
   "id": "ec711e68",
   "metadata": {
    "execution": {
     "iopub.execute_input": "2025-10-13T23:35:37.380170Z",
     "iopub.status.busy": "2025-10-13T23:35:37.379895Z",
     "iopub.status.idle": "2025-10-13T23:35:37.383954Z",
     "shell.execute_reply": "2025-10-13T23:35:37.383276Z",
     "shell.execute_reply.started": "2025-10-13T23:35:37.380149Z"
    },
    "id": "ec711e68",
    "trusted": true
   },
   "outputs": [],
   "source": [
    "MODEL_NAME = \"bert-base-cased\"\n",
    "MAX_LENGTH = 512\n",
    "BATCH_SIZE = 32\n",
    "NUM_EPOCHS = 5\n",
    "LEARNING_RATE = 2e-5"
   ]
  },
  {
   "cell_type": "code",
   "execution_count": 73,
   "id": "0027f142",
   "metadata": {
    "execution": {
     "iopub.execute_input": "2025-10-13T23:35:39.475717Z",
     "iopub.status.busy": "2025-10-13T23:35:39.475453Z",
     "iopub.status.idle": "2025-10-13T23:35:39.479396Z",
     "shell.execute_reply": "2025-10-13T23:35:39.478679Z",
     "shell.execute_reply.started": "2025-10-13T23:35:39.475698Z"
    },
    "id": "0027f142",
    "trusted": true
   },
   "outputs": [],
   "source": [
    "ds_full = dataset = DatasetDict(\n",
    "    {\"train\": ds_train, \"validation\": ds_val, \"test\": ds_test}\n",
    ")"
   ]
  },
  {
   "cell_type": "code",
   "execution_count": 74,
   "id": "cba68d08",
   "metadata": {
    "execution": {
     "iopub.execute_input": "2025-10-13T23:35:41.397662Z",
     "iopub.status.busy": "2025-10-13T23:35:41.397397Z",
     "iopub.status.idle": "2025-10-13T23:35:42.306563Z",
     "shell.execute_reply": "2025-10-13T23:35:42.305836Z",
     "shell.execute_reply.started": "2025-10-13T23:35:41.397641Z"
    },
    "id": "cba68d08",
    "trusted": true
   },
   "outputs": [],
   "source": [
    "tokenizer = AutoTokenizer.from_pretrained(MODEL_NAME)"
   ]
  },
  {
   "cell_type": "code",
   "execution_count": 75,
   "id": "be226f13",
   "metadata": {
    "execution": {
     "iopub.execute_input": "2025-10-13T23:35:44.359887Z",
     "iopub.status.busy": "2025-10-13T23:35:44.359590Z",
     "iopub.status.idle": "2025-10-13T23:35:44.363803Z",
     "shell.execute_reply": "2025-10-13T23:35:44.362995Z",
     "shell.execute_reply.started": "2025-10-13T23:35:44.359861Z"
    },
    "id": "be226f13",
    "trusted": true
   },
   "outputs": [],
   "source": [
    "label2id = {label: i for i, label in enumerate(LABEL_NAMES)}\n",
    "id2label = {i: label for i, label in enumerate(LABEL_NAMES)}"
   ]
  },
  {
   "cell_type": "markdown",
   "id": "4194f78b",
   "metadata": {
    "id": "4194f78b"
   },
   "source": [
    "Разметка датасета имеет тип BIO, стандартный для NER. Однако, в изначальном варианте размечено каждое слово, которое для модели может состоять из нескольких токенов в силу subword-токенизации, соответственно, нужно трансформировать разметку - распротранить лейблы сущностей на все токены:\n",
    "![image-2.png](./_img/NER2BPE.png)"
   ]
  },
  {
   "cell_type": "code",
   "execution_count": 76,
   "id": "f1aa1e05",
   "metadata": {
    "execution": {
     "iopub.execute_input": "2025-10-13T23:35:49.497716Z",
     "iopub.status.busy": "2025-10-13T23:35:49.497426Z",
     "iopub.status.idle": "2025-10-13T23:35:49.504196Z",
     "shell.execute_reply": "2025-10-13T23:35:49.503320Z",
     "shell.execute_reply.started": "2025-10-13T23:35:49.497692Z"
    },
    "id": "f1aa1e05",
    "trusted": true
   },
   "outputs": [],
   "source": [
    "def tokenize_and_align_labels(data, tok_kwargs, ignore_idx=-100):\n",
    "    \"\"\"\n",
    "    Токенизация текста и выравнивание меток с учетом разделения на подтокены\n",
    "    \"\"\"\n",
    "    tokenized_inputs = tokenizer(\n",
    "        data[\"tokens\"],\n",
    "        **tok_kwargs,  # Будем возвращать списки, а не тензоры\n",
    "    )\n",
    "\n",
    "    labels = []\n",
    "    all_word_ids = []\n",
    "    for i, label in enumerate(data[\"tags\"]):\n",
    "        word_ids = tokenized_inputs.word_ids(batch_index=i)\n",
    "        previous_word_idx = None\n",
    "        label_ids = []\n",
    "\n",
    "        for word_idx in word_ids:\n",
    "            # Специальные токены получают метку ignore_idx\n",
    "            if word_idx is None:\n",
    "                label_ids.append(ignore_idx)\n",
    "            # Для первого токена каждого слова используем соответствующую метку\n",
    "            elif word_idx != previous_word_idx:\n",
    "                label_ids.append(label[word_idx])\n",
    "            # Для подтокенов используем метку ignore_idx или метку текущего слова (в зависимости от задачи)\n",
    "            else:\n",
    "                label_ids.append(ignore_idx)\n",
    "            previous_word_idx = word_idx\n",
    "\n",
    "        labels.append(label_ids)\n",
    "        all_word_ids.append(word_ids)\n",
    "\n",
    "    tokenized_inputs[\"labels\"] = labels\n",
    "    tokenized_inputs[\"word_ids\"] = all_word_ids\n",
    "\n",
    "    return tokenized_inputs"
   ]
  },
  {
   "cell_type": "markdown",
   "id": "e4c9473e",
   "metadata": {
    "id": "e4c9473e"
   },
   "source": [
    "После предсказаний subword-модели потребуется восстановить разметку до word-уровня:\n",
    "![image.png](./_img/FUSEBERT2NERLabels.png)"
   ]
  },
  {
   "cell_type": "code",
   "execution_count": null,
   "id": "7e49510b",
   "metadata": {},
   "outputs": [],
   "source": [
    "from collections import Counter\n",
    "\n",
    "\n",
    "def align_predictions(\n",
    "    tokenizer, raw_dataset, tokenized_dataset, predictions, id2label, max_length=512\n",
    "):\n",
    "    pred_label_ids = np.argmax(predictions, axis=-1)\n",
    "\n",
    "    results = []\n",
    "\n",
    "    for i in range(len(raw_dataset)):\n",
    "        # Повторно токенизируем исходные токены, чтобы получить word_ids\n",
    "        tokenized = tokenizer(\n",
    "            raw_dataset[i][\"tokens\"],\n",
    "            truncation=True,\n",
    "            is_split_into_words=True,\n",
    "            max_length=max_length,\n",
    "            return_tensors=None,\n",
    "        )\n",
    "\n",
    "        word_ids = tokenized.word_ids()\n",
    "        words = raw_dataset[i][\"tokens\"]\n",
    "        true_labels = raw_dataset[i][\"tags\"]\n",
    "\n",
    "        # предсказания из готового токенизированного датасета (в том же порядке)\n",
    "        pred_ids = pred_label_ids[i]\n",
    "        word_to_preds = {}\n",
    "\n",
    "        for token_idx, widx in enumerate(word_ids):\n",
    "            if widx is None:\n",
    "                continue\n",
    "            word_to_preds.setdefault(widx, []).append(pred_ids[token_idx])\n",
    "\n",
    "        aligned = []\n",
    "        for widx, word in enumerate(words):\n",
    "            preds_for_word = word_to_preds.get(widx, [])\n",
    "            if preds_for_word:\n",
    "                pred_id = Counter(preds_for_word).most_common(1)[0][0]\n",
    "                pred_label = id2label[pred_id]\n",
    "                if (\n",
    "                    len(aligned)\n",
    "                    and aligned[-1][1] == \"O\"\n",
    "                    and pred_label.startswith(\"I\")\n",
    "                ):\n",
    "                    pred_label = f\"B{pred_label[1:]}\"\n",
    "            else:\n",
    "                pred_label = \"O\"\n",
    "\n",
    "            true_id = true_labels[widx]\n",
    "            true_label = id2label[true_id] if true_id in id2label else str(true_id)\n",
    "\n",
    "            aligned.append((word, pred_label, true_label))\n",
    "\n",
    "        results.append(aligned)\n",
    "\n",
    "    return results"
   ]
  },
  {
   "cell_type": "code",
   "execution_count": 77,
   "id": "6cea5a7f",
   "metadata": {
    "execution": {
     "iopub.execute_input": "2025-10-13T23:35:53.393933Z",
     "iopub.status.busy": "2025-10-13T23:35:53.393648Z",
     "iopub.status.idle": "2025-10-13T23:35:53.397657Z",
     "shell.execute_reply": "2025-10-13T23:35:53.396860Z",
     "shell.execute_reply.started": "2025-10-13T23:35:53.393911Z"
    },
    "id": "6cea5a7f",
    "trusted": true
   },
   "outputs": [],
   "source": [
    "tok_kwargs_analytical = {\n",
    "    \"truncation\": False,\n",
    "    \"padding\": False,\n",
    "    \"is_split_into_words\": True,\n",
    "    \"return_tensors\": None,\n",
    "}"
   ]
  },
  {
   "cell_type": "code",
   "execution_count": 78,
   "id": "187cf657",
   "metadata": {
    "execution": {
     "iopub.execute_input": "2025-10-13T23:35:55.863081Z",
     "iopub.status.busy": "2025-10-13T23:35:55.862795Z",
     "iopub.status.idle": "2025-10-13T23:36:11.662970Z",
     "shell.execute_reply": "2025-10-13T23:36:11.662376Z",
     "shell.execute_reply.started": "2025-10-13T23:35:55.863062Z"
    },
    "id": "187cf657",
    "trusted": true
   },
   "outputs": [],
   "source": [
    "tokenized_datasets_analytical = dataset.map(\n",
    "    lambda x: tokenize_and_align_labels(x, tok_kwargs_analytical, -100),\n",
    "    batched=True,\n",
    "    remove_columns=dataset[\"train\"].column_names,\n",
    ")"
   ]
  },
  {
   "cell_type": "code",
   "execution_count": 79,
   "id": "f60071ec",
   "metadata": {
    "colab": {
     "base_uri": "https://localhost:8080/"
    },
    "execution": {
     "iopub.execute_input": "2025-10-13T23:36:14.414942Z",
     "iopub.status.busy": "2025-10-13T23:36:14.414425Z",
     "iopub.status.idle": "2025-10-13T23:36:14.770328Z",
     "shell.execute_reply": "2025-10-13T23:36:14.769696Z",
     "shell.execute_reply.started": "2025-10-13T23:36:14.414915Z"
    },
    "id": "f60071ec",
    "outputId": "16ef0f81-7533-416c-d06a-e6f3230e9039",
    "trusted": true
   },
   "outputs": [
    {
     "name": "stdout",
     "output_type": "stream",
     "text": [
      "Max BPE-token length of sample in train split: 270\n",
      "Max BPE-token length of sample in validation split: 353\n",
      "Max BPE-token length of sample in test split: 171\n"
     ]
    }
   ],
   "source": [
    "for stage in tokenized_datasets_analytical.keys():\n",
    "    print(\n",
    "        f\"Max BPE-token length of sample in {stage} split:\",\n",
    "        max(\n",
    "            tokenized_datasets_analytical[stage]\n",
    "            .to_pandas()[\"input_ids\"]\n",
    "            .apply(lambda x: len(x))\n",
    "        ),\n",
    "    )"
   ]
  },
  {
   "cell_type": "markdown",
   "id": "37b29852",
   "metadata": {
    "id": "37b29852"
   },
   "source": [
    "Фактическая проверка показывает, что есть последовательности $256\\lt|text|_{BPE-tokens}$, при этом $\\forall text\\in Data: |text|_{BPE-tokens}\\lt512$, длину нужно поддерживать на уровне 512 BPE-токенов."
   ]
  },
  {
   "cell_type": "code",
   "execution_count": 80,
   "id": "0a91c617",
   "metadata": {
    "execution": {
     "iopub.execute_input": "2025-10-13T23:36:16.449648Z",
     "iopub.status.busy": "2025-10-13T23:36:16.449411Z",
     "iopub.status.idle": "2025-10-13T23:36:16.457782Z",
     "shell.execute_reply": "2025-10-13T23:36:16.456961Z",
     "shell.execute_reply.started": "2025-10-13T23:36:16.449633Z"
    },
    "id": "0a91c617",
    "trusted": true
   },
   "outputs": [],
   "source": [
    "del tokenized_datasets_analytical"
   ]
  },
  {
   "cell_type": "markdown",
   "id": "0298ab52",
   "metadata": {
    "id": "0298ab52"
   },
   "source": [
    "Для консистениности, убедившись в правилности оценки, будем поддерживать следующие параметры токенизации:"
   ]
  },
  {
   "cell_type": "code",
   "execution_count": 81,
   "id": "fa6ef42a",
   "metadata": {
    "execution": {
     "iopub.execute_input": "2025-10-13T23:36:18.906881Z",
     "iopub.status.busy": "2025-10-13T23:36:18.906584Z",
     "iopub.status.idle": "2025-10-13T23:36:18.910986Z",
     "shell.execute_reply": "2025-10-13T23:36:18.910278Z",
     "shell.execute_reply.started": "2025-10-13T23:36:18.906826Z"
    },
    "id": "fa6ef42a",
    "trusted": true
   },
   "outputs": [],
   "source": [
    "tok_kwargs = {\n",
    "    \"truncation\": True,\n",
    "    \"padding\": True,\n",
    "    \"is_split_into_words\": True,\n",
    "    \"max_length\": MAX_LENGTH,\n",
    "    \"return_tensors\": None,\n",
    "}"
   ]
  },
  {
   "cell_type": "code",
   "execution_count": 82,
   "id": "afac6d3b",
   "metadata": {
    "colab": {
     "base_uri": "https://localhost:8080/",
     "height": 49,
     "referenced_widgets": [
      "d1498cc88eb043dc887d9a1e1f7c05c7",
      "27ec63b01fab4f3cb8aaa0db9f69c41f",
      "cd908c798c8d433d9aed800f76644827",
      "c01ba2572b73419ea37d58af0fadc34e",
      "78c16b470b124bf199378c4ceae1df1a",
      "ed3a0eaa7289417a955a9c9c35392f59",
      "1bcf57b2dc7f44feaa5d1de7c3c16998",
      "e91fed92e8844c02bcedf7e33313bed6",
      "aefc4a01738d499cbf1969af934be312",
      "2d5fd3e84c5f4c0fb481bbb4c7cc75fe",
      "3d4cdce5309e4006a7ff40b4cccae13c"
     ]
    },
    "execution": {
     "iopub.execute_input": "2025-10-13T23:36:20.971607Z",
     "iopub.status.busy": "2025-10-13T23:36:20.970942Z",
     "iopub.status.idle": "2025-10-13T23:36:46.573919Z",
     "shell.execute_reply": "2025-10-13T23:36:46.573098Z",
     "shell.execute_reply.started": "2025-10-13T23:36:20.971586Z"
    },
    "id": "afac6d3b",
    "outputId": "b57cc0cf-1952-4cfb-fd14-db050610544a",
    "trusted": true
   },
   "outputs": [
    {
     "data": {
      "application/vnd.jupyter.widget-view+json": {
       "model_id": "d1498cc88eb043dc887d9a1e1f7c05c7",
       "version_major": 2,
       "version_minor": 0
      },
      "text/plain": [
       "Map:   0%|          | 0/15680 [00:00<?, ? examples/s]"
      ]
     },
     "metadata": {},
     "output_type": "display_data"
    }
   ],
   "source": [
    "tokenized_datasets = dataset.map(\n",
    "    lambda x: tokenize_and_align_labels(x, tok_kwargs, -100),\n",
    "    batched=True,\n",
    "    remove_columns=dataset[\"train\"].column_names,\n",
    ")"
   ]
  },
  {
   "cell_type": "code",
   "execution_count": 83,
   "id": "0cc6d360",
   "metadata": {
    "colab": {
     "base_uri": "https://localhost:8080/"
    },
    "execution": {
     "iopub.execute_input": "2025-10-13T23:36:48.681646Z",
     "iopub.status.busy": "2025-10-13T23:36:48.681074Z",
     "iopub.status.idle": "2025-10-13T23:36:51.029184Z",
     "shell.execute_reply": "2025-10-13T23:36:51.028456Z",
     "shell.execute_reply.started": "2025-10-13T23:36:48.681622Z"
    },
    "id": "0cc6d360",
    "outputId": "f17f510b-52a6-4ab6-b226-ff0d190458e1",
    "trusted": true
   },
   "outputs": [
    {
     "name": "stderr",
     "output_type": "stream",
     "text": [
      "Some weights of BertForTokenClassification were not initialized from the model checkpoint at bert-base-cased and are newly initialized: ['classifier.bias', 'classifier.weight']\n",
      "You should probably TRAIN this model on a down-stream task to be able to use it for predictions and inference.\n"
     ]
    }
   ],
   "source": [
    "model = AutoModelForTokenClassification.from_pretrained(\n",
    "    MODEL_NAME, num_labels=len(LABEL_NAMES), id2label=id2label, label2id=label2id\n",
    ")"
   ]
  },
  {
   "cell_type": "code",
   "execution_count": 84,
   "id": "8af826b0",
   "metadata": {
    "execution": {
     "iopub.execute_input": "2025-10-13T23:38:36.023084Z",
     "iopub.status.busy": "2025-10-13T23:38:36.022431Z",
     "iopub.status.idle": "2025-10-13T23:38:36.026336Z",
     "shell.execute_reply": "2025-10-13T23:38:36.025558Z",
     "shell.execute_reply.started": "2025-10-13T23:38:36.023060Z"
    },
    "id": "8af826b0",
    "trusted": true
   },
   "outputs": [],
   "source": [
    "data_collator = DataCollatorForTokenClassification(tokenizer=tokenizer, padding=True)"
   ]
  },
  {
   "cell_type": "code",
   "execution_count": 85,
   "id": "e5c18d36",
   "metadata": {
    "execution": {
     "iopub.execute_input": "2025-10-13T23:38:54.590658Z",
     "iopub.status.busy": "2025-10-13T23:38:54.590406Z",
     "iopub.status.idle": "2025-10-13T23:38:54.911523Z",
     "shell.execute_reply": "2025-10-13T23:38:54.911006Z",
     "shell.execute_reply.started": "2025-10-13T23:38:54.590639Z"
    },
    "id": "e5c18d36",
    "trusted": true
   },
   "outputs": [],
   "source": [
    "metric = evaluate.load(\"seqeval\")"
   ]
  },
  {
   "cell_type": "code",
   "execution_count": 86,
   "id": "63ec1eac",
   "metadata": {
    "execution": {
     "iopub.execute_input": "2025-10-13T23:39:01.720271Z",
     "iopub.status.busy": "2025-10-13T23:39:01.719774Z",
     "iopub.status.idle": "2025-10-13T23:39:01.725648Z",
     "shell.execute_reply": "2025-10-13T23:39:01.724970Z",
     "shell.execute_reply.started": "2025-10-13T23:39:01.720245Z"
    },
    "id": "63ec1eac",
    "trusted": true
   },
   "outputs": [],
   "source": [
    "def compute_metrics(p, ignore_index=-100):\n",
    "    \"\"\"\n",
    "    Вычисление метрик (precision, recall, f1) для NER\n",
    "    \"\"\"\n",
    "    predictions, labels = p\n",
    "    predictions = np.argmax(predictions, axis=2)\n",
    "\n",
    "    # Убираем специальные токены (метка -100)\n",
    "    true_predictions = [\n",
    "        [LABEL_NAMES[p] for (p, l) in zip(prediction, label) if l != ignore_index]\n",
    "        for prediction, label in zip(predictions, labels)\n",
    "    ]\n",
    "    true_labels = [\n",
    "        [LABEL_NAMES[l] for (p, l) in zip(prediction, label) if l != ignore_index]\n",
    "        for prediction, label in zip(predictions, labels)\n",
    "    ]\n",
    "\n",
    "    results = metric.compute(predictions=true_predictions, references=true_labels)\n",
    "    return {\n",
    "        \"precision\": results[\"overall_precision\"],\n",
    "        \"recall\": results[\"overall_recall\"],\n",
    "        \"f1\": results[\"overall_f1\"],\n",
    "        \"accuracy\": results[\"overall_accuracy\"],\n",
    "    }"
   ]
  },
  {
   "cell_type": "code",
   "execution_count": null,
   "id": "5ad7653f",
   "metadata": {
    "colab": {
     "base_uri": "https://localhost:8080/"
    },
    "execution": {
     "iopub.execute_input": "2025-10-13T23:39:07.708034Z",
     "iopub.status.busy": "2025-10-13T23:39:07.707456Z",
     "iopub.status.idle": "2025-10-13T23:39:07.898123Z",
     "shell.execute_reply": "2025-10-13T23:39:07.897382Z",
     "shell.execute_reply.started": "2025-10-13T23:39:07.707999Z"
    },
    "id": "5ad7653f",
    "outputId": "0d35e911-e786-4ccf-876e-10eab7dbfc48",
    "trusted": true
   },
   "outputs": [
    {
     "name": "stderr",
     "output_type": "stream",
     "text": [
      "/usr/local/lib/python3.11/dist-packages/transformers/training_args.py:1568: FutureWarning: `evaluation_strategy` is deprecated and will be removed in version 4.46 of 🤗 Transformers. Use `eval_strategy` instead\n",
      "  warnings.warn(\n"
     ]
    }
   ],
   "source": [
    "training_args = TrainingArguments(\n",
    "    output_dir=\"./ner-model\",\n",
    "    evaluation_strategy=\"epoch\",\n",
    "    learning_rate=LEARNING_RATE,\n",
    "    per_device_train_batch_size=BATCH_SIZE,\n",
    "    per_device_eval_batch_size=BATCH_SIZE,\n",
    "    num_train_epochs=NUM_EPOCHS,\n",
    "    weight_decay=0.01,\n",
    "    save_strategy=\"epoch\",\n",
    "    logging_dir=\"./logs\",\n",
    "    push_to_hub=False,\n",
    "    report_to=None,\n",
    "    load_best_model_at_end=True,\n",
    "    metric_for_best_model=\"eval_f1\",\n",
    "    greater_is_better=True,\n",
    "    save_total_limit=1,\n",
    ")"
   ]
  },
  {
   "cell_type": "code",
   "execution_count": null,
   "id": "6f733981",
   "metadata": {
    "colab": {
     "base_uri": "https://localhost:8080/"
    },
    "execution": {
     "iopub.execute_input": "2025-10-13T23:41:45.597149Z",
     "iopub.status.busy": "2025-10-13T23:41:45.596839Z",
     "iopub.status.idle": "2025-10-13T23:41:45.609383Z",
     "shell.execute_reply": "2025-10-13T23:41:45.608788Z",
     "shell.execute_reply.started": "2025-10-13T23:41:45.597127Z"
    },
    "id": "6f733981",
    "outputId": "cb77ceb2-b2c7-414a-a7d0-0c9e36fca4f3",
    "trusted": true
   },
   "outputs": [
    {
     "name": "stderr",
     "output_type": "stream",
     "text": [
      "/tmp/ipykernel_38/3442625466.py:1: FutureWarning: `tokenizer` is deprecated and will be removed in version 5.0.0 for `Trainer.__init__`. Use `processing_class` instead.\n",
      "  trainer = Trainer(\n"
     ]
    }
   ],
   "source": [
    "trainer = Trainer(\n",
    "    model=model,\n",
    "    args=training_args,\n",
    "    train_dataset=tokenized_datasets[\"train\"],\n",
    "    eval_dataset=tokenized_datasets[\"validation\"],\n",
    "    tokenizer=tokenizer,\n",
    "    data_collator=data_collator,\n",
    "    compute_metrics=lambda x: compute_metrics(x, -100),\n",
    ")"
   ]
  },
  {
   "cell_type": "code",
   "execution_count": null,
   "id": "25e581dc",
   "metadata": {
    "colab": {
     "base_uri": "https://localhost:8080/",
     "height": 221
    },
    "execution": {
     "iopub.execute_input": "2025-10-13T23:41:47.641330Z",
     "iopub.status.busy": "2025-10-13T23:41:47.640756Z",
     "iopub.status.idle": "2025-10-14T03:32:38.524717Z",
     "shell.execute_reply": "2025-10-14T03:32:38.524134Z",
     "shell.execute_reply.started": "2025-10-13T23:41:47.641295Z"
    },
    "id": "25e581dc",
    "outputId": "58f353f3-cb1b-44d4-fe6a-4518c28e6feb",
    "trusted": true
   },
   "outputs": [
    {
     "name": "stderr",
     "output_type": "stream",
     "text": [
      "\u001b[34m\u001b[1mwandb\u001b[0m: \u001b[33mWARNING\u001b[0m The `run_name` is currently set to the same value as `TrainingArguments.output_dir`. If this was not intended, please specify a different run name by setting the `TrainingArguments.run_name` parameter.\n",
      "/usr/local/lib/python3.11/dist-packages/torch/nn/parallel/_functions.py:71: UserWarning: Was asked to gather along dimension 0, but all input tensors were scalars; will instead unsqueeze and return a vector.\n",
      "  warnings.warn(\n"
     ]
    },
    {
     "data": {
      "text/html": [
       "\n",
       "    <div>\n",
       "      \n",
       "      <progress value='9050' max='9050' style='width:300px; height:20px; vertical-align: middle;'></progress>\n",
       "      [9050/9050 3:50:47, Epoch 5/5]\n",
       "    </div>\n",
       "    <table border=\"1\" class=\"dataframe\">\n",
       "  <thead>\n",
       " <tr style=\"text-align: left;\">\n",
       "      <th>Epoch</th>\n",
       "      <th>Training Loss</th>\n",
       "      <th>Validation Loss</th>\n",
       "      <th>Precision</th>\n",
       "      <th>Recall</th>\n",
       "      <th>F1</th>\n",
       "      <th>Accuracy</th>\n",
       "    </tr>\n",
       "  </thead>\n",
       "  <tbody>\n",
       "    <tr>\n",
       "      <td>1</td>\n",
       "      <td>0.078300</td>\n",
       "      <td>0.075456</td>\n",
       "      <td>0.827111</td>\n",
       "      <td>0.881645</td>\n",
       "      <td>0.853508</td>\n",
       "      <td>0.975914</td>\n",
       "    </tr>\n",
       "    <tr>\n",
       "      <td>2</td>\n",
       "      <td>0.053500</td>\n",
       "      <td>0.072729</td>\n",
       "      <td>0.833310</td>\n",
       "      <td>0.894026</td>\n",
       "      <td>0.862601</td>\n",
       "      <td>0.977411</td>\n",
       "    </tr>\n",
       "    <tr>\n",
       "      <td>3</td>\n",
       "      <td>0.037200</td>\n",
       "      <td>0.072982</td>\n",
       "      <td>0.850534</td>\n",
       "      <td>0.887934</td>\n",
       "      <td>0.868832</td>\n",
       "      <td>0.978894</td>\n",
       "    </tr>\n",
       "    <tr>\n",
       "      <td>4</td>\n",
       "      <td>0.028900</td>\n",
       "      <td>0.079961</td>\n",
       "      <td>0.851291</td>\n",
       "      <td>0.889309</td>\n",
       "      <td>0.869885</td>\n",
       "      <td>0.978714</td>\n",
       "    </tr>\n",
       "    <tr>\n",
       "      <td>5</td>\n",
       "      <td>0.023600</td>\n",
       "      <td>0.081052</td>\n",
       "      <td>0.856362</td>\n",
       "      <td>0.885182</td>\n",
       "      <td>0.870534</td>\n",
       "      <td>0.979022</td>\n",
       "    </tr>\n",
       "  </tbody>\n",
       "</table><p>"
      ],
      "text/plain": [
       "<IPython.core.display.HTML object>"
      ]
     },
     "metadata": {},
     "output_type": "display_data"
    },
    {
     "name": "stderr",
     "output_type": "stream",
     "text": [
      "/usr/local/lib/python3.11/dist-packages/torch/nn/parallel/_functions.py:71: UserWarning: Was asked to gather along dimension 0, but all input tensors were scalars; will instead unsqueeze and return a vector.\n",
      "  warnings.warn(\n",
      "/usr/local/lib/python3.11/dist-packages/torch/nn/parallel/_functions.py:71: UserWarning: Was asked to gather along dimension 0, but all input tensors were scalars; will instead unsqueeze and return a vector.\n",
      "  warnings.warn(\n",
      "/usr/local/lib/python3.11/dist-packages/torch/nn/parallel/_functions.py:71: UserWarning: Was asked to gather along dimension 0, but all input tensors were scalars; will instead unsqueeze and return a vector.\n",
      "  warnings.warn(\n",
      "/usr/local/lib/python3.11/dist-packages/torch/nn/parallel/_functions.py:71: UserWarning: Was asked to gather along dimension 0, but all input tensors were scalars; will instead unsqueeze and return a vector.\n",
      "  warnings.warn(\n",
      "/usr/local/lib/python3.11/dist-packages/torch/nn/parallel/_functions.py:71: UserWarning: Was asked to gather along dimension 0, but all input tensors were scalars; will instead unsqueeze and return a vector.\n",
      "  warnings.warn(\n"
     ]
    },
    {
     "data": {
      "text/plain": [
       "TrainOutput(global_step=9050, training_loss=0.05365257946825818, metrics={'train_runtime': 13850.3431, 'train_samples_per_second': 41.808, 'train_steps_per_second': 0.653, 'total_flos': 7.449716308349784e+16, 'train_loss': 0.05365257946825818, 'epoch': 5.0})"
      ]
     },
     "execution_count": 36,
     "metadata": {},
     "output_type": "execute_result"
    }
   ],
   "source": [
    "trainer.train()"
   ]
  },
  {
   "cell_type": "code",
   "execution_count": null,
   "id": "bbcf61f4",
   "metadata": {
    "execution": {
     "iopub.execute_input": "2025-10-14T03:32:38.526287Z",
     "iopub.status.busy": "2025-10-14T03:32:38.525968Z",
     "iopub.status.idle": "2025-10-14T03:32:39.295464Z",
     "shell.execute_reply": "2025-10-14T03:32:39.294856Z",
     "shell.execute_reply.started": "2025-10-14T03:32:38.526268Z"
    },
    "id": "bbcf61f4",
    "trusted": true
   },
   "outputs": [],
   "source": [
    "trainer.save_model(\"./ner-final-model-5-epochs\")"
   ]
  },
  {
   "cell_type": "markdown",
   "id": "e5630627",
   "metadata": {
    "id": "e5630627"
   },
   "source": [
    "## Валидация"
   ]
  },
  {
   "cell_type": "code",
   "execution_count": 87,
   "id": "2aad4881",
   "metadata": {
    "execution": {
     "iopub.execute_input": "2025-10-14T03:32:39.296384Z",
     "iopub.status.busy": "2025-10-14T03:32:39.296182Z",
     "iopub.status.idle": "2025-10-14T03:32:39.372525Z",
     "shell.execute_reply": "2025-10-14T03:32:39.372040Z",
     "shell.execute_reply.started": "2025-10-14T03:32:39.296369Z"
    },
    "id": "2aad4881",
    "trusted": true
   },
   "outputs": [],
   "source": [
    "# predictions = trainer.predict(tokenized_datasets[\"test\"])\n",
    "model_path = \"/content/drive/MyDrive/model_5_epochs_len_512\"\n",
    "tokenizer = AutoTokenizer.from_pretrained(model_path)\n",
    "model = AutoModelForTokenClassification.from_pretrained(\n",
    "    model_path, num_labels=len(LABEL_NAMES), id2label=id2label, label2id=label2id\n",
    ")\n",
    "\n",
    "label_names = ds_test.features[\"tags\"].feature.names"
   ]
  },
  {
   "cell_type": "code",
   "execution_count": 88,
   "id": "82c14d54",
   "metadata": {
    "colab": {
     "base_uri": "https://localhost:8080/",
     "height": 72
    },
    "execution": {
     "iopub.execute_input": "2025-10-14T03:32:39.374310Z",
     "iopub.status.busy": "2025-10-14T03:32:39.374117Z",
     "iopub.status.idle": "2025-10-14T03:33:49.045471Z",
     "shell.execute_reply": "2025-10-14T03:33:49.044951Z",
     "shell.execute_reply.started": "2025-10-14T03:32:39.374294Z"
    },
    "id": "82c14d54",
    "outputId": "28a7e66a-2f42-4d6d-d80a-51cd11570c94",
    "trusted": true
   },
   "outputs": [
    {
     "name": "stderr",
     "output_type": "stream",
     "text": [
      "/tmp/ipython-input-1267966716.py:1: FutureWarning: `tokenizer` is deprecated and will be removed in version 5.0.0 for `Trainer.__init__`. Use `processing_class` instead.\n",
      "  trainer = Trainer(\n"
     ]
    },
    {
     "data": {
      "text/html": [],
      "text/plain": [
       "<IPython.core.display.HTML object>"
      ]
     },
     "metadata": {},
     "output_type": "display_data"
    }
   ],
   "source": [
    "trainer = Trainer(\n",
    "    model=model,\n",
    "    tokenizer=tokenizer,\n",
    "    data_collator=data_collator,\n",
    "    compute_metrics=compute_metrics,\n",
    ")\n",
    "\n",
    "predictions, labels, _ = trainer.predict(tokenized_datasets[\"test\"])\n",
    "predicted_label_ids = np.argmax(predictions, axis=-1)"
   ]
  },
  {
   "cell_type": "code",
   "execution_count": 89,
   "id": "da17c5ff",
   "metadata": {
    "colab": {
     "base_uri": "https://localhost:8080/"
    },
    "execution": {
     "iopub.execute_input": "2025-10-14T03:33:49.046146Z",
     "iopub.status.busy": "2025-10-14T03:33:49.045974Z",
     "iopub.status.idle": "2025-10-14T03:33:49.050740Z",
     "shell.execute_reply": "2025-10-14T03:33:49.050226Z",
     "shell.execute_reply.started": "2025-10-14T03:33:49.046132Z"
    },
    "id": "da17c5ff",
    "outputId": "5fc915c7-5904-4290-d6a5-f78f7d279aab",
    "trusted": true
   },
   "outputs": [
    {
     "data": {
      "text/plain": [
       "Dataset({\n",
       "    features: ['input_ids', 'token_type_ids', 'attention_mask', 'labels', 'word_ids'],\n",
       "    num_rows: 12217\n",
       "})"
      ]
     },
     "execution_count": 89,
     "metadata": {},
     "output_type": "execute_result"
    }
   ],
   "source": [
    "tokenized_datasets[\"test\"]"
   ]
  },
  {
   "cell_type": "code",
   "execution_count": null,
   "id": "09bfe1f6",
   "metadata": {
    "execution": {
     "iopub.execute_input": "2025-10-14T03:33:49.066478Z",
     "iopub.status.busy": "2025-10-14T03:33:49.066262Z",
     "iopub.status.idle": "2025-10-14T03:33:55.112649Z",
     "shell.execute_reply": "2025-10-14T03:33:55.111884Z",
     "shell.execute_reply.started": "2025-10-14T03:33:49.066455Z"
    },
    "id": "09bfe1f6",
    "trusted": true
   },
   "outputs": [],
   "source": [
    "aligned = align_predictions(\n",
    "    tokenizer,\n",
    "    dataset[\"test\"],\n",
    "    tokenized_datasets[\"test\"],\n",
    "    predictions,\n",
    "    model.config.id2label,\n",
    "    max_length=MAX_LENGTH,\n",
    ")"
   ]
  },
  {
   "cell_type": "code",
   "execution_count": 92,
   "id": "f0edd9f1",
   "metadata": {
    "colab": {
     "base_uri": "https://localhost:8080/"
    },
    "execution": {
     "iopub.execute_input": "2025-10-14T03:33:55.113804Z",
     "iopub.status.busy": "2025-10-14T03:33:55.113540Z",
     "iopub.status.idle": "2025-10-14T03:33:55.118882Z",
     "shell.execute_reply": "2025-10-14T03:33:55.118342Z",
     "shell.execute_reply.started": "2025-10-14T03:33:55.113782Z"
    },
    "id": "f0edd9f1",
    "outputId": "96bb6805-0054-433d-85bd-91abad999a68",
    "trusted": true
   },
   "outputs": [
    {
     "data": {
      "text/plain": [
       "[('Powerful', 'O', 'B-WORK_OF_ART'),\n",
       " ('Tools', 'O', 'I-WORK_OF_ART'),\n",
       " ('for', 'O', 'I-WORK_OF_ART'),\n",
       " ('Biotechnology', 'O', 'I-WORK_OF_ART'),\n",
       " ('-', 'O', 'I-WORK_OF_ART'),\n",
       " ('Biochips', 'O', 'I-WORK_OF_ART')]"
      ]
     },
     "execution_count": 92,
     "metadata": {},
     "output_type": "execute_result"
    }
   ],
   "source": [
    "aligned[0]"
   ]
  },
  {
   "cell_type": "code",
   "execution_count": 93,
   "id": "79b0d142",
   "metadata": {
    "execution": {
     "iopub.execute_input": "2025-10-14T03:33:55.119687Z",
     "iopub.status.busy": "2025-10-14T03:33:55.119496Z",
     "iopub.status.idle": "2025-10-14T03:33:55.181018Z",
     "shell.execute_reply": "2025-10-14T03:33:55.180352Z",
     "shell.execute_reply.started": "2025-10-14T03:33:55.119673Z"
    },
    "id": "79b0d142",
    "trusted": true
   },
   "outputs": [],
   "source": [
    "all_preds = [list(map(lambda tuple_: tuple_[1], list_)) for list_ in aligned]\n",
    "all_gt = [list(map(lambda tuple_: tuple_[2], list_)) for list_ in aligned]"
   ]
  },
  {
   "cell_type": "code",
   "execution_count": 94,
   "id": "ab0deacf",
   "metadata": {
    "id": "ab0deacf"
   },
   "outputs": [],
   "source": [
    "def bio2bo(label):\n",
    "    if label == \"O\":\n",
    "        return \"O\"\n",
    "    return label.split(\"-\")[1] if \"-\" in label else label\n",
    "\n",
    "\n",
    "def make_NER_CF(true_labels, pred_labels, label2id):\n",
    "    all_bo_labels = {bio2bo(label) for label in label2id.keys()}\n",
    "    bo_label2id = {bio2bo(k): i for i, k in enumerate(all_bo_labels)}\n",
    "    matrix = np.zeros((len(all_bo_labels), len(all_bo_labels)), dtype=int)\n",
    "\n",
    "    for true_seq, pred_seq in zip(true_labels, pred_labels):\n",
    "        for t, p in zip(true_seq, pred_seq):\n",
    "            t_bo = bio2bo(t)\n",
    "            p_bo = bio2bo(p)\n",
    "            matrix[bo_label2id[t_bo], bo_label2id[p_bo]] += 1\n",
    "\n",
    "    matrix[bo_label2id[\"O\"], bo_label2id[\"O\"]] = 0\n",
    "\n",
    "    return matrix, all_bo_labels\n",
    "\n",
    "\n",
    "def plot_cf(matrix, labels, make_zero_diag=False):\n",
    "    plt.figure(figsize=(11 - 1, 9 + 1))\n",
    "    matrix_ = matrix.copy()\n",
    "\n",
    "    if make_zero_diag:\n",
    "        np.fill_diagonal(matrix_, 0)\n",
    "\n",
    "    sns.heatmap(\n",
    "        matrix_,\n",
    "        annot=True,\n",
    "        fmt=\"d\",\n",
    "        xticklabels=labels,\n",
    "        yticklabels=labels,\n",
    "        cmap=\"Reds\",\n",
    "    )\n",
    "    plt.xlabel(\"Predicted Entity\")\n",
    "    plt.ylabel(\"True Entity\")\n",
    "    plt.title(\"NER Word-level Confusion Matrix\")\n",
    "    plt.show()"
   ]
  },
  {
   "cell_type": "code",
   "execution_count": 95,
   "id": "RKkNxJrP6KIl",
   "metadata": {
    "colab": {
     "base_uri": "https://localhost:8080/",
     "height": 817
    },
    "id": "RKkNxJrP6KIl",
    "outputId": "59a7074c-2c93-48b7-8941-0f1924ebdb90"
   },
   "outputs": [
    {
     "data": {
      "image/png": "[encoded data removed]",
      "text/plain": [
       "<Figure size 1000x1000 with 2 Axes>"
      ]
     },
     "metadata": {},
     "output_type": "display_data"
    }
   ],
   "source": [
    "plot_cf(*make_NER_CF(all_gt, all_preds, label2id))"
   ]
  },
  {
   "cell_type": "markdown",
   "id": "hTjr6jFaKFcy",
   "metadata": {
    "id": "hTjr6jFaKFcy"
   },
   "source": [
    "Рассмотрев Confusion Matrix мы можем отметить несколько тенденций неудачного расспознования сущностей (при этом занулен счетчик правильных предсказаний `Outside`-`Outside` для более плавной индикации ошибок heatmap'ом):\n",
    "1. Сущность `Time` часто ошибочно классифицируется как `Outside`; а также логичная ошибка классификации `Time` $\\leftrightarrow$ `Date`\n",
    "2. Помимо упомянутой ошибки, `Date` часто не обнаруживается и ошибочно размечается как `Outside`\n",
    "3. `Law` часто ошибочно классифицируется как `Outside` и обратно, то есть модель в целом обладает низким пониманием этого класса\n",
    "4. `Language` часто классифицировался моделью как `Norp`, при этом взаимных ошибок с `Outside` почти нет; семантическая роль `Norp` и `Language` может быть схожа, что объясняет ошибку (также часто токены схожи из-за механизма словообразования английского языка - прим. English может встречаться в контексте национальности или языка), так как очень мала встречаемость класса, модель, скорее всего, не научилась разделять их.\n",
    "5. Похожая ошибка возникает у сущностей классов `Cardinal` и `Date`, но в процентном соотношении эта доля мала для обоих классов, что дает основания полагать, что проблема исходит из низкого количества сэмплов, так как `Cardinal` и `Date` намного более распространены и модель лучшще научилась их разделять."
   ]
  },
  {
   "cell_type": "markdown",
   "id": "8uxDRAX9g7Ft",
   "metadata": {
    "id": "8uxDRAX9g7Ft"
   },
   "source": [
    "Для большей наглоядности заполним диагональ нулями (также для более прозрачной индикации heatmap'ом):"
   ]
  },
  {
   "cell_type": "code",
   "execution_count": 96,
   "id": "ek2SAh-xfVxY",
   "metadata": {
    "colab": {
     "base_uri": "https://localhost:8080/",
     "height": 826
    },
    "id": "ek2SAh-xfVxY",
    "outputId": "90add362-5ec8-4b16-8517-8bf44a776058"
   },
   "outputs": [
    {
     "data": {
      "image/png": "[encoded data removed]",
      "text/plain": [
       "<Figure size 1000x1000 with 2 Axes>"
      ]
     },
     "metadata": {},
     "output_type": "display_data"
    }
   ],
   "source": [
    "plot_cf(*make_NER_CF(all_gt, all_preds, label2id), True)"
   ]
  },
  {
   "cell_type": "markdown",
   "id": "8Rsvvt5OhUpc",
   "metadata": {
    "id": "8Rsvvt5OhUpc"
   },
   "source": [
    "Если рассматривать ошибки между классами, то наглядно видно, что большая часть приходится на `Outside`-`<ANY ENTITY>`, а так как `Outside` - это \"фоновый\" класс, можно высказать предположение, что у модели есть общая проблема с детекцией классов, усиливающаяся с редкостью каждого конкретного класса."
   ]
  },
  {
   "cell_type": "markdown",
   "id": "l3JBqJJdqapJ",
   "metadata": {
    "id": "l3JBqJJdqapJ"
   },
   "source": [
    "Рассмотрим метрики классификации по каждому классу и в обшей совокупности:"
   ]
  },
  {
   "cell_type": "code",
   "execution_count": 97,
   "id": "45223a9b",
   "metadata": {
    "colab": {
     "base_uri": "https://localhost:8080/"
    },
    "execution": {
     "iopub.execute_input": "2025-10-14T03:33:55.183156Z",
     "iopub.status.busy": "2025-10-14T03:33:55.182945Z",
     "iopub.status.idle": "2025-10-14T03:33:58.085530Z",
     "shell.execute_reply": "2025-10-14T03:33:58.084888Z",
     "shell.execute_reply.started": "2025-10-14T03:33:55.183139Z"
    },
    "id": "45223a9b",
    "outputId": "97d6b6ab-88a1-422d-8f6f-6e6238160b50",
    "trusted": true
   },
   "outputs": [
    {
     "name": "stdout",
     "output_type": "stream",
     "text": [
      "Overall Metrics:\n",
      "Precision: 0.8383\n",
      "Recall: 0.8639\n",
      "F1-Score: 0.8509\n",
      "Accuracy: 0.9780\n",
      "\n",
      "Detailed Metrics per class:\n",
      "\n",
      "CARDINAL:\n",
      "  Precision: 0.7994\n",
      "  Recall: 0.8209\n",
      "  F1-Score: 0.8100\n",
      "\n",
      "DATE:\n",
      "  Precision: 0.8023\n",
      "  Recall: 0.8539\n",
      "  F1-Score: 0.8273\n",
      "\n",
      "EVENT:\n",
      "  Precision: 0.5514\n",
      "  Recall: 0.6941\n",
      "  F1-Score: 0.6146\n",
      "\n",
      "FAC:\n",
      "  Precision: 0.6014\n",
      "  Recall: 0.5973\n",
      "  F1-Score: 0.5993\n",
      "\n",
      "GPE:\n",
      "  Precision: 0.9175\n",
      "  Recall: 0.9002\n",
      "  F1-Score: 0.9088\n",
      "\n",
      "LANGUAGE:\n",
      "  Precision: 0.8571\n",
      "  Recall: 0.5455\n",
      "  F1-Score: 0.6667\n",
      "\n",
      "LAW:\n",
      "  Precision: 0.5000\n",
      "  Recall: 0.5909\n",
      "  F1-Score: 0.5417\n",
      "\n",
      "LOC:\n",
      "  Precision: 0.6695\n",
      "  Recall: 0.7349\n",
      "  F1-Score: 0.7007\n",
      "\n",
      "MONEY:\n",
      "  Precision: 0.8591\n",
      "  Recall: 0.8930\n",
      "  F1-Score: 0.8757\n",
      "\n",
      "NORP:\n",
      "  Precision: 0.8782\n",
      "  Recall: 0.9101\n",
      "  F1-Score: 0.8938\n",
      "\n",
      "ORDINAL:\n",
      "  Precision: 0.7042\n",
      "  Recall: 0.8164\n",
      "  F1-Score: 0.7562\n",
      "\n",
      "ORG:\n",
      "  Precision: 0.8541\n",
      "  Recall: 0.8916\n",
      "  F1-Score: 0.8724\n",
      "\n",
      "PERCENT:\n",
      "  Precision: 0.8505\n",
      "  Recall: 0.8922\n",
      "  F1-Score: 0.8708\n",
      "\n",
      "PERSON:\n",
      "  Precision: 0.9030\n",
      "  Recall: 0.9030\n",
      "  F1-Score: 0.9030\n",
      "\n",
      "PRODUCT:\n",
      "  Precision: 0.5960\n",
      "  Recall: 0.6556\n",
      "  F1-Score: 0.6243\n",
      "\n",
      "QUANTITY:\n",
      "  Precision: 0.6986\n",
      "  Recall: 0.6667\n",
      "  F1-Score: 0.6823\n",
      "\n",
      "TIME:\n",
      "  Precision: 0.5961\n",
      "  Recall: 0.6756\n",
      "  F1-Score: 0.6333\n",
      "\n",
      "WORK_OF_ART:\n",
      "  Precision: 0.5670\n",
      "  Recall: 0.6509\n",
      "  F1-Score: 0.6061\n"
     ]
    }
   ],
   "source": [
    "results = metric.compute(predictions=all_preds, references=all_gt)\n",
    "\n",
    "\n",
    "print(\"Overall Metrics:\")\n",
    "print(f\"Precision: {results['overall_precision']:.4f}\")\n",
    "print(f\"Recall: {results['overall_recall']:.4f}\")\n",
    "print(f\"F1-Score: {results['overall_f1']:.4f}\")\n",
    "print(f\"Accuracy: {results['overall_accuracy']:.4f}\")\n",
    "\n",
    "print(\"\\nDetailed Metrics per class:\")\n",
    "for key in results:\n",
    "    if key not in [\n",
    "        \"overall_precision\",\n",
    "        \"overall_recall\",\n",
    "        \"overall_f1\",\n",
    "        \"overall_accuracy\",\n",
    "    ]:\n",
    "        print(f\"\\n{key}:\")\n",
    "        print(f\"  Precision: {results[key]['precision']:.4f}\")\n",
    "        print(f\"  Recall: {results[key]['recall']:.4f}\")\n",
    "        print(f\"  F1-Score: {results[key]['f1']:.4f}\")"
   ]
  },
  {
   "cell_type": "markdown",
   "id": "pKExh9xVilBN",
   "metadata": {
    "id": "pKExh9xVilBN"
   },
   "source": [
    "Метрики подтверждают ранее сделанные выводы, также можно отметить новые уязвимые места. При этом средние метрики высоки."
   ]
  },
  {
   "cell_type": "code",
   "execution_count": 107,
   "id": "PFiKlgKKjrpT",
   "metadata": {
    "colab": {
     "base_uri": "https://localhost:8080/"
    },
    "id": "PFiKlgKKjrpT",
    "outputId": "c239b089-1032-43a7-8367-ce83b3808ae7"
   },
   "outputs": [
    {
     "name": "stdout",
     "output_type": "stream",
     "text": [
      "Count-Precision Spearman correlation: ρ=0.614 with p_val=0.007 \n",
      "Count-Recall Spearman correlation: ρ=0.806 with p_val=0.000 \n",
      "Count-F1 Spearman correlation: ρ=0.773 with p_val=0.000 \n"
     ]
    }
   ],
   "source": [
    "from scipy.stats import spearmanr\n",
    "\n",
    "counts = []\n",
    "p_scores = []\n",
    "r_scores = []\n",
    "f1_scores = []\n",
    "\n",
    "for key, cnt in classes_cnt.items():\n",
    "    if key != \"O\":\n",
    "        counts.append(cnt)\n",
    "        p_scores.append(results[key][\"precision\"])\n",
    "        r_scores.append(results[key][\"recall\"])\n",
    "        f1_scores.append(results[key][\"f1\"])\n",
    "\n",
    "print(\n",
    "    \"Count-Precision Spearman correlation: ρ={:.3f} with p_val={:.3f} \".format(\n",
    "        *spearmanr(counts, p_scores)\n",
    "    )\n",
    ")\n",
    "print(\n",
    "    \"Count-Recall Spearman correlation: ρ={:.3f} with p_val={:.3f} \".format(\n",
    "        *spearmanr(counts, r_scores)\n",
    "    )\n",
    ")\n",
    "print(\n",
    "    \"Count-F1 Spearman correlation: ρ={:.3f} with p_val={:.3f} \".format(\n",
    "        *spearmanr(counts, f1_scores)\n",
    "    )\n",
    ")"
   ]
  },
  {
   "cell_type": "markdown",
   "id": "NDHh5w8iuxvt",
   "metadata": {
    "id": "NDHh5w8iuxvt"
   },
   "source": [
    "Корреляции показывают прочную прямую связь возможности обнаружения классов и их частотой в тренировочном наборе."
   ]
  },
  {
   "cell_type": "markdown",
   "id": "SP1crCWFvug5",
   "metadata": {
    "id": "SP1crCWFvug5"
   },
   "source": [
    "Возможным вариантом улучшения качества классификации является тренировка со взвешенной функцией потерь."
   ]
  },
  {
   "cell_type": "code",
   "execution_count": 114,
   "id": "fDZ8TZdHziSP",
   "metadata": {
    "colab": {
     "base_uri": "https://localhost:8080/"
    },
    "id": "fDZ8TZdHziSP",
    "outputId": "9e49b9b1-2a92-4f54-ab49-08624186e086"
   },
   "outputs": [
    {
     "name": "stderr",
     "output_type": "stream",
     "text": [
      "100%|██████████| 115812/115812 [00:00<00:00, 123116.38it/s]\n"
     ]
    }
   ],
   "source": [
    "all_classes_cnt = {}\n",
    "for tag_arr in tqdm(tokenized_datasets[\"train\"][\"labels\"]):\n",
    "    for cls_num in tag_arr:\n",
    "        if cls_num != -100:\n",
    "            cls_name = ENTITY_MAPPING[cls_num]\n",
    "            if cls_name not in all_classes_cnt:\n",
    "                all_classes_cnt[cls_name] = 1\n",
    "            else:\n",
    "                all_classes_cnt[cls_name] += 1"
   ]
  },
  {
   "cell_type": "code",
   "execution_count": 129,
   "id": "3Qv3WHuL1rYS",
   "metadata": {
    "id": "3Qv3WHuL1rYS"
   },
   "outputs": [],
   "source": [
    "class_weights = torch.zeros(len(all_classes_cnt))\n",
    "for k, v in all_classes_cnt.items():\n",
    "    class_weights[label2id[k]] = v"
   ]
  },
  {
   "cell_type": "code",
   "execution_count": 130,
   "id": "nmZP9E4B2QXH",
   "metadata": {
    "id": "nmZP9E4B2QXH"
   },
   "outputs": [],
   "source": [
    "class_weights = 1 / class_weights"
   ]
  },
  {
   "cell_type": "code",
   "execution_count": 131,
   "id": "qC3oglxi2UdP",
   "metadata": {
    "id": "qC3oglxi2UdP"
   },
   "outputs": [],
   "source": [
    "class_weights = class_weights.to(\"cuda\")"
   ]
  },
  {
   "cell_type": "code",
   "execution_count": 141,
   "id": "WiLJ2jMcvvE_",
   "metadata": {
    "id": "WiLJ2jMcvvE_"
   },
   "outputs": [],
   "source": [
    "class TrainerWithWeightedLoss(Trainer):\n",
    "    def compute_loss(\n",
    "        self, model, inputs, return_outputs=False, num_items_in_batch=None\n",
    "    ):\n",
    "        labels = inputs.get(\"labels\")\n",
    "        outputs = model(**inputs)\n",
    "        logits = outputs.logits\n",
    "\n",
    "        loss_fct = torch.nn.CrossEntropyLoss(weight=class_weights)\n",
    "\n",
    "        active_loss = inputs.get(\"attention_mask\").view(-1) == 1\n",
    "        active_logits = logits.view(-1, model.config.num_labels)\n",
    "        active_labels = torch.where(\n",
    "            active_loss,\n",
    "            labels.view(-1),\n",
    "            torch.tensor(loss_fct.ignore_index).type_as(labels),\n",
    "        )\n",
    "\n",
    "        loss = loss_fct(active_logits, active_labels)\n",
    "\n",
    "        return (loss, outputs) if return_outputs else loss"
   ]
  },
  {
   "cell_type": "code",
   "execution_count": 142,
   "id": "SXdh-muG3CTb",
   "metadata": {
    "colab": {
     "base_uri": "https://localhost:8080/"
    },
    "id": "SXdh-muG3CTb",
    "outputId": "e4d53947-745b-46c4-ff16-a8ec7b9effb2"
   },
   "outputs": [
    {
     "name": "stderr",
     "output_type": "stream",
     "text": [
      "/usr/local/lib/python3.12/dist-packages/transformers/training_args.py:1568: FutureWarning: `evaluation_strategy` is deprecated and will be removed in version 4.46 of 🤗 Transformers. Use `eval_strategy` instead\n",
      "  warnings.warn(\n"
     ]
    }
   ],
   "source": [
    "weighted_tuning_args = TrainingArguments(\n",
    "    output_dir=\"./weight_tuned_ner_model\",\n",
    "    evaluation_strategy=\"epoch\",\n",
    "    learning_rate=0.5 * LEARNING_RATE,\n",
    "    per_device_train_batch_size=BATCH_SIZE,\n",
    "    per_device_eval_batch_size=BATCH_SIZE,\n",
    "    num_train_epochs=1,\n",
    "    weight_decay=0.01,\n",
    "    save_strategy=\"epoch\",\n",
    "    logging_dir=\"./logs\",\n",
    "    push_to_hub=False,\n",
    "    report_to=None,\n",
    "    load_best_model_at_end=True,\n",
    "    metric_for_best_model=\"eval_f1\",\n",
    "    greater_is_better=True,\n",
    "    save_total_limit=1,\n",
    ")"
   ]
  },
  {
   "cell_type": "code",
   "execution_count": 143,
   "id": "Z19MNkRl26Zl",
   "metadata": {
    "colab": {
     "base_uri": "https://localhost:8080/"
    },
    "id": "Z19MNkRl26Zl",
    "outputId": "c0388e4d-fd5e-4978-c8a0-252b8921f3df"
   },
   "outputs": [
    {
     "name": "stderr",
     "output_type": "stream",
     "text": [
      "/tmp/ipython-input-3829986054.py:1: FutureWarning: `tokenizer` is deprecated and will be removed in version 5.0.0 for `TrainerWithWeightedLoss.__init__`. Use `processing_class` instead.\n",
      "  weighted_trainer = TrainerWithWeightedLoss(\n"
     ]
    }
   ],
   "source": [
    "weighted_trainer = TrainerWithWeightedLoss(\n",
    "    model=model,\n",
    "    args=weighted_tuning_args,\n",
    "    train_dataset=tokenized_datasets[\"train\"],\n",
    "    eval_dataset=tokenized_datasets[\"validation\"],\n",
    "    tokenizer=tokenizer,\n",
    "    data_collator=data_collator,\n",
    "    compute_metrics=lambda x: compute_metrics(x, -100),\n",
    ")"
   ]
  },
  {
   "cell_type": "code",
   "execution_count": null,
   "id": "-g22SvHY3kZ-",
   "metadata": {
    "colab": {
     "base_uri": "https://localhost:8080/",
     "height": 77
    },
    "id": "-g22SvHY3kZ-",
    "outputId": "b91fddfa-6cf7-4190-c375-d982c66ac340"
   },
   "outputs": [
    {
     "data": {
      "text/html": [
       "\n",
       "    <div>\n",
       "      \n",
       "      <progress value='23' max='3620' style='width:300px; height:20px; vertical-align: middle;'></progress>\n",
       "      [  23/3620 00:25 < 1:12:10, 0.83 it/s, Epoch 0.01/1]\n",
       "    </div>\n",
       "    <table border=\"1\" class=\"dataframe\">\n",
       "  <thead>\n",
       " <tr style=\"text-align: left;\">\n",
       "      <th>Epoch</th>\n",
       "      <th>Training Loss</th>\n",
       "      <th>Validation Loss</th>\n",
       "    </tr>\n",
       "  </thead>\n",
       "  <tbody>\n",
       "  </tbody>\n",
       "</table><p>"
      ],
      "text/plain": [
       "<IPython.core.display.HTML object>"
      ]
     },
     "metadata": {},
     "output_type": "display_data"
    }
   ],
   "source": [
    "weighted_trainer.train()"
   ]
  },
  {
   "cell_type": "code",
   "execution_count": null,
   "id": "PnpHpMId3pA3",
   "metadata": {
    "id": "PnpHpMId3pA3"
   },
   "outputs": [],
   "source": []
  }
 ],
 "metadata": {
  "accelerator": "GPU",
  "colab": {
   "gpuType": "T4",
   "provenance": []
  },
  "kaggle": {
   "accelerator": "nvidiaTeslaT4",
   "dataSources": [],
   "dockerImageVersionId": 31090,
   "isGpuEnabled": true,
   "isInternetEnabled": true,
   "language": "python",
   "sourceType": "notebook"
  },
  "kernelspec": {
   "display_name": ".venv",
   "language": "python",
   "name": "python3"
  },
  "language_info": {
   "codemirror_mode": {
    "name": "ipython",
    "version": 3
   },
   "file_extension": ".py",
   "mimetype": "text/x-python",
   "name": "python",
   "nbconvert_exporter": "python",
   "pygments_lexer": "ipython3",
   "version": "3.12.3"
  },
  "widgets": {
   "application/vnd.jupyter.widget-state+json": {
    "1bcf57b2dc7f44feaa5d1de7c3c16998": {
     "model_module": "@jupyter-widgets/controls",
     "model_module_version": "1.5.0",
     "model_name": "DescriptionStyleModel",
     "state": {
      "_model_module": "@jupyter-widgets/controls",
      "_model_module_version": "1.5.0",
      "_model_name": "DescriptionStyleModel",
      "_view_count": null,
      "_view_module": "@jupyter-widgets/base",
      "_view_module_version": "1.2.0",
      "_view_name": "StyleView",
      "description_width": ""
     }
    },
    "27ec63b01fab4f3cb8aaa0db9f69c41f": {
     "model_module": "@jupyter-widgets/controls",
     "model_module_version": "1.5.0",
     "model_name": "HTMLModel",
     "state": {
      "_dom_classes": [],
      "_model_module": "@jupyter-widgets/controls",
      "_model_module_version": "1.5.0",
      "_model_name": "HTMLModel",
      "_view_count": null,
      "_view_module": "@jupyter-widgets/controls",
      "_view_module_version": "1.5.0",
      "_view_name": "HTMLView",
      "description": "",
      "description_tooltip": null,
      "layout": "IPY_MODEL_ed3a0eaa7289417a955a9c9c35392f59",
      "placeholder": "​",
      "style": "IPY_MODEL_1bcf57b2dc7f44feaa5d1de7c3c16998",
      "value": "Map: 100%"
     }
    },
    "2d5fd3e84c5f4c0fb481bbb4c7cc75fe": {
     "model_module": "@jupyter-widgets/base",
     "model_module_version": "1.2.0",
     "model_name": "LayoutModel",
     "state": {
      "_model_module": "@jupyter-widgets/base",
      "_model_module_version": "1.2.0",
      "_model_name": "LayoutModel",
      "_view_count": null,
      "_view_module": "@jupyter-widgets/base",
      "_view_module_version": "1.2.0",
      "_view_name": "LayoutView",
      "align_content": null,
      "align_items": null,
      "align_self": null,
      "border": null,
      "bottom": null,
      "display": null,
      "flex": null,
      "flex_flow": null,
      "grid_area": null,
      "grid_auto_columns": null,
      "grid_auto_flow": null,
      "grid_auto_rows": null,
      "grid_column": null,
      "grid_gap": null,
      "grid_row": null,
      "grid_template_areas": null,
      "grid_template_columns": null,
      "grid_template_rows": null,
      "height": null,
      "justify_content": null,
      "justify_items": null,
      "left": null,
      "margin": null,
      "max_height": null,
      "max_width": null,
      "min_height": null,
      "min_width": null,
      "object_fit": null,
      "object_position": null,
      "order": null,
      "overflow": null,
      "overflow_x": null,
      "overflow_y": null,
      "padding": null,
      "right": null,
      "top": null,
      "visibility": null,
      "width": null
     }
    },
    "3d4cdce5309e4006a7ff40b4cccae13c": {
     "model_module": "@jupyter-widgets/controls",
     "model_module_version": "1.5.0",
     "model_name": "DescriptionStyleModel",
     "state": {
      "_model_module": "@jupyter-widgets/controls",
      "_model_module_version": "1.5.0",
      "_model_name": "DescriptionStyleModel",
      "_view_count": null,
      "_view_module": "@jupyter-widgets/base",
      "_view_module_version": "1.2.0",
      "_view_name": "StyleView",
      "description_width": ""
     }
    },
    "78c16b470b124bf199378c4ceae1df1a": {
     "model_module": "@jupyter-widgets/base",
     "model_module_version": "1.2.0",
     "model_name": "LayoutModel",
     "state": {
      "_model_module": "@jupyter-widgets/base",
      "_model_module_version": "1.2.0",
      "_model_name": "LayoutModel",
      "_view_count": null,
      "_view_module": "@jupyter-widgets/base",
      "_view_module_version": "1.2.0",
      "_view_name": "LayoutView",
      "align_content": null,
      "align_items": null,
      "align_self": null,
      "border": null,
      "bottom": null,
      "display": null,
      "flex": null,
      "flex_flow": null,
      "grid_area": null,
      "grid_auto_columns": null,
      "grid_auto_flow": null,
      "grid_auto_rows": null,
      "grid_column": null,
      "grid_gap": null,
      "grid_row": null,
      "grid_template_areas": null,
      "grid_template_columns": null,
      "grid_template_rows": null,
      "height": null,
      "justify_content": null,
      "justify_items": null,
      "left": null,
      "margin": null,
      "max_height": null,
      "max_width": null,
      "min_height": null,
      "min_width": null,
      "object_fit": null,
      "object_position": null,
      "order": null,
      "overflow": null,
      "overflow_x": null,
      "overflow_y": null,
      "padding": null,
      "right": null,
      "top": null,
      "visibility": null,
      "width": null
     }
    },
    "aefc4a01738d499cbf1969af934be312": {
     "model_module": "@jupyter-widgets/controls",
     "model_module_version": "1.5.0",
     "model_name": "ProgressStyleModel",
     "state": {
      "_model_module": "@jupyter-widgets/controls",
      "_model_module_version": "1.5.0",
      "_model_name": "ProgressStyleModel",
      "_view_count": null,
      "_view_module": "@jupyter-widgets/base",
      "_view_module_version": "1.2.0",
      "_view_name": "StyleView",
      "bar_color": null,
      "description_width": ""
     }
    },
    "c01ba2572b73419ea37d58af0fadc34e": {
     "model_module": "@jupyter-widgets/controls",
     "model_module_version": "1.5.0",
     "model_name": "HTMLModel",
     "state": {
      "_dom_classes": [],
      "_model_module": "@jupyter-widgets/controls",
      "_model_module_version": "1.5.0",
      "_model_name": "HTMLModel",
      "_view_count": null,
      "_view_module": "@jupyter-widgets/controls",
      "_view_module_version": "1.5.0",
      "_view_name": "HTMLView",
      "description": "",
      "description_tooltip": null,
      "layout": "IPY_MODEL_2d5fd3e84c5f4c0fb481bbb4c7cc75fe",
      "placeholder": "​",
      "style": "IPY_MODEL_3d4cdce5309e4006a7ff40b4cccae13c",
      "value": " 15680/15680 [00:10&lt;00:00, 1195.54 examples/s]"
     }
    },
    "cd908c798c8d433d9aed800f76644827": {
     "model_module": "@jupyter-widgets/controls",
     "model_module_version": "1.5.0",
     "model_name": "FloatProgressModel",
     "state": {
      "_dom_classes": [],
      "_model_module": "@jupyter-widgets/controls",
      "_model_module_version": "1.5.0",
      "_model_name": "FloatProgressModel",
      "_view_count": null,
      "_view_module": "@jupyter-widgets/controls",
      "_view_module_version": "1.5.0",
      "_view_name": "ProgressView",
      "bar_style": "success",
      "description": "",
      "description_tooltip": null,
      "layout": "IPY_MODEL_e91fed92e8844c02bcedf7e33313bed6",
      "max": 15680,
      "min": 0,
      "orientation": "horizontal",
      "style": "IPY_MODEL_aefc4a01738d499cbf1969af934be312",
      "value": 15680
     }
    },
    "d1498cc88eb043dc887d9a1e1f7c05c7": {
     "model_module": "@jupyter-widgets/controls",
     "model_module_version": "1.5.0",
     "model_name": "HBoxModel",
     "state": {
      "_dom_classes": [],
      "_model_module": "@jupyter-widgets/controls",
      "_model_module_version": "1.5.0",
      "_model_name": "HBoxModel",
      "_view_count": null,
      "_view_module": "@jupyter-widgets/controls",
      "_view_module_version": "1.5.0",
      "_view_name": "HBoxView",
      "box_style": "",
      "children": [
       "IPY_MODEL_27ec63b01fab4f3cb8aaa0db9f69c41f",
       "IPY_MODEL_cd908c798c8d433d9aed800f76644827",
       "IPY_MODEL_c01ba2572b73419ea37d58af0fadc34e"
      ],
      "layout": "IPY_MODEL_78c16b470b124bf199378c4ceae1df1a"
     }
    },
    "e91fed92e8844c02bcedf7e33313bed6": {
     "model_module": "@jupyter-widgets/base",
     "model_module_version": "1.2.0",
     "model_name": "LayoutModel",
     "state": {
      "_model_module": "@jupyter-widgets/base",
      "_model_module_version": "1.2.0",
      "_model_name": "LayoutModel",
      "_view_count": null,
      "_view_module": "@jupyter-widgets/base",
      "_view_module_version": "1.2.0",
      "_view_name": "LayoutView",
      "align_content": null,
      "align_items": null,
      "align_self": null,
      "border": null,
      "bottom": null,
      "display": null,
      "flex": null,
      "flex_flow": null,
      "grid_area": null,
      "grid_auto_columns": null,
      "grid_auto_flow": null,
      "grid_auto_rows": null,
      "grid_column": null,
      "grid_gap": null,
      "grid_row": null,
      "grid_template_areas": null,
      "grid_template_columns": null,
      "grid_template_rows": null,
      "height": null,
      "justify_content": null,
      "justify_items": null,
      "left": null,
      "margin": null,
      "max_height": null,
      "max_width": null,
      "min_height": null,
      "min_width": null,
      "object_fit": null,
      "object_position": null,
      "order": null,
      "overflow": null,
      "overflow_x": null,
      "overflow_y": null,
      "padding": null,
      "right": null,
      "top": null,
      "visibility": null,
      "width": null
     }
    },
    "ed3a0eaa7289417a955a9c9c35392f59": {
     "model_module": "@jupyter-widgets/base",
     "model_module_version": "1.2.0",
     "model_name": "LayoutModel",
     "state": {
      "_model_module": "@jupyter-widgets/base",
      "_model_module_version": "1.2.0",
      "_model_name": "LayoutModel",
      "_view_count": null,
      "_view_module": "@jupyter-widgets/base",
      "_view_module_version": "1.2.0",
      "_view_name": "LayoutView",
      "align_content": null,
      "align_items": null,
      "align_self": null,
      "border": null,
      "bottom": null,
      "display": null,
      "flex": null,
      "flex_flow": null,
      "grid_area": null,
      "grid_auto_columns": null,
      "grid_auto_flow": null,
      "grid_auto_rows": null,
      "grid_column": null,
      "grid_gap": null,
      "grid_row": null,
      "grid_template_areas": null,
      "grid_template_columns": null,
      "grid_template_rows": null,
      "height": null,
      "justify_content": null,
      "justify_items": null,
      "left": null,
      "margin": null,
      "max_height": null,
      "max_width": null,
      "min_height": null,
      "min_width": null,
      "object_fit": null,
      "object_position": null,
      "order": null,
      "overflow": null,
      "overflow_x": null,
      "overflow_y": null,
      "padding": null,
      "right": null,
      "top": null,
      "visibility": null,
      "width": null
     }
    }
   }
  }
 },
 "nbformat": 4,
 "nbformat_minor": 5
}
